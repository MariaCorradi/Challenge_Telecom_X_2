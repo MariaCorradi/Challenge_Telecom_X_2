{
  "nbformat": 4,
  "nbformat_minor": 0,
  "metadata": {
    "colab": {
      "provenance": [],
      "authorship_tag": "ABX9TyPpYvTn7m6DliEZzjQG7RMo",
      "include_colab_link": true
    },
    "kernelspec": {
      "name": "python3",
      "display_name": "Python 3"
    },
    "language_info": {
      "name": "python"
    }
  },
  "cells": [
    {
      "cell_type": "markdown",
      "metadata": {
        "id": "view-in-github",
        "colab_type": "text"
      },
      "source": [
        "<a href=\"https://colab.research.google.com/github/MariaCorradi/Challenge_Telecom_X_2/blob/main/Telecom_Xparte2_Latam.ipynb\" target=\"_parent\"><img src=\"https://colab.research.google.com/assets/colab-badge.svg\" alt=\"Open In Colab\"/></a>"
      ]
    },
    {
      "cell_type": "code",
      "metadata": {
        "colab": {
          "base_uri": "https://localhost:8080/",
          "height": 325
        },
        "id": "bb863295",
        "outputId": "97d22f58-2e07-4896-dfee-d8e1acbd8db8"
      },
      "source": [
        "import pandas as pd\n",
        "\n",
        "df = pd.read_csv('/content/df_normalizado.csv')\n",
        "df = df.drop('customerID', axis=1)\n",
        "display(df.head())"
      ],
      "execution_count": 4,
      "outputs": [
        {
          "output_type": "display_data",
          "data": {
            "text/plain": [
              "  Churn  gender  SeniorCitizen Partner Dependents  tenure PhoneService  \\\n",
              "0    No  Female              0     Yes        Yes       9          Yes   \n",
              "1    No    Male              0      No         No       9          Yes   \n",
              "2   Yes    Male              0      No         No       4          Yes   \n",
              "3   Yes    Male              1     Yes         No      13          Yes   \n",
              "4   Yes  Female              1     Yes         No       3          Yes   \n",
              "\n",
              "  MultipleLines InternetService OnlineSecurity  ... TechSupport StreamingTV  \\\n",
              "0            No             DSL             No  ...         Yes         Yes   \n",
              "1           Yes             DSL             No  ...          No          No   \n",
              "2            No     Fiber optic             No  ...          No          No   \n",
              "3            No     Fiber optic             No  ...          No         Yes   \n",
              "4            No     Fiber optic             No  ...         Yes         Yes   \n",
              "\n",
              "  StreamingMovies        Contract PaperlessBilling     PaymentMethod  \\\n",
              "0              No        One year              Yes      Mailed check   \n",
              "1             Yes  Month-to-month               No      Mailed check   \n",
              "2              No  Month-to-month              Yes  Electronic check   \n",
              "3             Yes  Month-to-month              Yes  Electronic check   \n",
              "4              No  Month-to-month              Yes      Mailed check   \n",
              "\n",
              "  Charges.Monthly Charges.Total  Churn_numeric  NumServices  \n",
              "0            65.6        593.30            0.0            8  \n",
              "1            59.9        542.40            0.0            9  \n",
              "2            73.9        280.85            1.0            8  \n",
              "3            98.0       1237.85            1.0            8  \n",
              "4            83.9        267.40            1.0            8  \n",
              "\n",
              "[5 rows x 22 columns]"
            ],
            "text/html": [
              "\n",
              "  <div id=\"df-7763ee5c-6598-4f22-9cc2-9d954e19240e\" class=\"colab-df-container\">\n",
              "    <div>\n",
              "<style scoped>\n",
              "    .dataframe tbody tr th:only-of-type {\n",
              "        vertical-align: middle;\n",
              "    }\n",
              "\n",
              "    .dataframe tbody tr th {\n",
              "        vertical-align: top;\n",
              "    }\n",
              "\n",
              "    .dataframe thead th {\n",
              "        text-align: right;\n",
              "    }\n",
              "</style>\n",
              "<table border=\"1\" class=\"dataframe\">\n",
              "  <thead>\n",
              "    <tr style=\"text-align: right;\">\n",
              "      <th></th>\n",
              "      <th>Churn</th>\n",
              "      <th>gender</th>\n",
              "      <th>SeniorCitizen</th>\n",
              "      <th>Partner</th>\n",
              "      <th>Dependents</th>\n",
              "      <th>tenure</th>\n",
              "      <th>PhoneService</th>\n",
              "      <th>MultipleLines</th>\n",
              "      <th>InternetService</th>\n",
              "      <th>OnlineSecurity</th>\n",
              "      <th>...</th>\n",
              "      <th>TechSupport</th>\n",
              "      <th>StreamingTV</th>\n",
              "      <th>StreamingMovies</th>\n",
              "      <th>Contract</th>\n",
              "      <th>PaperlessBilling</th>\n",
              "      <th>PaymentMethod</th>\n",
              "      <th>Charges.Monthly</th>\n",
              "      <th>Charges.Total</th>\n",
              "      <th>Churn_numeric</th>\n",
              "      <th>NumServices</th>\n",
              "    </tr>\n",
              "  </thead>\n",
              "  <tbody>\n",
              "    <tr>\n",
              "      <th>0</th>\n",
              "      <td>No</td>\n",
              "      <td>Female</td>\n",
              "      <td>0</td>\n",
              "      <td>Yes</td>\n",
              "      <td>Yes</td>\n",
              "      <td>9</td>\n",
              "      <td>Yes</td>\n",
              "      <td>No</td>\n",
              "      <td>DSL</td>\n",
              "      <td>No</td>\n",
              "      <td>...</td>\n",
              "      <td>Yes</td>\n",
              "      <td>Yes</td>\n",
              "      <td>No</td>\n",
              "      <td>One year</td>\n",
              "      <td>Yes</td>\n",
              "      <td>Mailed check</td>\n",
              "      <td>65.6</td>\n",
              "      <td>593.30</td>\n",
              "      <td>0.0</td>\n",
              "      <td>8</td>\n",
              "    </tr>\n",
              "    <tr>\n",
              "      <th>1</th>\n",
              "      <td>No</td>\n",
              "      <td>Male</td>\n",
              "      <td>0</td>\n",
              "      <td>No</td>\n",
              "      <td>No</td>\n",
              "      <td>9</td>\n",
              "      <td>Yes</td>\n",
              "      <td>Yes</td>\n",
              "      <td>DSL</td>\n",
              "      <td>No</td>\n",
              "      <td>...</td>\n",
              "      <td>No</td>\n",
              "      <td>No</td>\n",
              "      <td>Yes</td>\n",
              "      <td>Month-to-month</td>\n",
              "      <td>No</td>\n",
              "      <td>Mailed check</td>\n",
              "      <td>59.9</td>\n",
              "      <td>542.40</td>\n",
              "      <td>0.0</td>\n",
              "      <td>9</td>\n",
              "    </tr>\n",
              "    <tr>\n",
              "      <th>2</th>\n",
              "      <td>Yes</td>\n",
              "      <td>Male</td>\n",
              "      <td>0</td>\n",
              "      <td>No</td>\n",
              "      <td>No</td>\n",
              "      <td>4</td>\n",
              "      <td>Yes</td>\n",
              "      <td>No</td>\n",
              "      <td>Fiber optic</td>\n",
              "      <td>No</td>\n",
              "      <td>...</td>\n",
              "      <td>No</td>\n",
              "      <td>No</td>\n",
              "      <td>No</td>\n",
              "      <td>Month-to-month</td>\n",
              "      <td>Yes</td>\n",
              "      <td>Electronic check</td>\n",
              "      <td>73.9</td>\n",
              "      <td>280.85</td>\n",
              "      <td>1.0</td>\n",
              "      <td>8</td>\n",
              "    </tr>\n",
              "    <tr>\n",
              "      <th>3</th>\n",
              "      <td>Yes</td>\n",
              "      <td>Male</td>\n",
              "      <td>1</td>\n",
              "      <td>Yes</td>\n",
              "      <td>No</td>\n",
              "      <td>13</td>\n",
              "      <td>Yes</td>\n",
              "      <td>No</td>\n",
              "      <td>Fiber optic</td>\n",
              "      <td>No</td>\n",
              "      <td>...</td>\n",
              "      <td>No</td>\n",
              "      <td>Yes</td>\n",
              "      <td>Yes</td>\n",
              "      <td>Month-to-month</td>\n",
              "      <td>Yes</td>\n",
              "      <td>Electronic check</td>\n",
              "      <td>98.0</td>\n",
              "      <td>1237.85</td>\n",
              "      <td>1.0</td>\n",
              "      <td>8</td>\n",
              "    </tr>\n",
              "    <tr>\n",
              "      <th>4</th>\n",
              "      <td>Yes</td>\n",
              "      <td>Female</td>\n",
              "      <td>1</td>\n",
              "      <td>Yes</td>\n",
              "      <td>No</td>\n",
              "      <td>3</td>\n",
              "      <td>Yes</td>\n",
              "      <td>No</td>\n",
              "      <td>Fiber optic</td>\n",
              "      <td>No</td>\n",
              "      <td>...</td>\n",
              "      <td>Yes</td>\n",
              "      <td>Yes</td>\n",
              "      <td>No</td>\n",
              "      <td>Month-to-month</td>\n",
              "      <td>Yes</td>\n",
              "      <td>Mailed check</td>\n",
              "      <td>83.9</td>\n",
              "      <td>267.40</td>\n",
              "      <td>1.0</td>\n",
              "      <td>8</td>\n",
              "    </tr>\n",
              "  </tbody>\n",
              "</table>\n",
              "<p>5 rows × 22 columns</p>\n",
              "</div>\n",
              "    <div class=\"colab-df-buttons\">\n",
              "\n",
              "  <div class=\"colab-df-container\">\n",
              "    <button class=\"colab-df-convert\" onclick=\"convertToInteractive('df-7763ee5c-6598-4f22-9cc2-9d954e19240e')\"\n",
              "            title=\"Convert this dataframe to an interactive table.\"\n",
              "            style=\"display:none;\">\n",
              "\n",
              "  <svg xmlns=\"http://www.w3.org/2000/svg\" height=\"24px\" viewBox=\"0 -960 960 960\">\n",
              "    <path d=\"M120-120v-720h720v720H120Zm60-500h600v-160H180v160Zm220 220h160v-160H400v160Zm0 220h160v-160H400v160ZM180-400h160v-160H180v160Zm440 0h160v-160H620v160ZM180-180h160v-160H180v160Zm440 0h160v-160H620v160Z\"/>\n",
              "  </svg>\n",
              "    </button>\n",
              "\n",
              "  <style>\n",
              "    .colab-df-container {\n",
              "      display:flex;\n",
              "      gap: 12px;\n",
              "    }\n",
              "\n",
              "    .colab-df-convert {\n",
              "      background-color: #E8F0FE;\n",
              "      border: none;\n",
              "      border-radius: 50%;\n",
              "      cursor: pointer;\n",
              "      display: none;\n",
              "      fill: #1967D2;\n",
              "      height: 32px;\n",
              "      padding: 0 0 0 0;\n",
              "      width: 32px;\n",
              "    }\n",
              "\n",
              "    .colab-df-convert:hover {\n",
              "      background-color: #E2EBFA;\n",
              "      box-shadow: 0px 1px 2px rgba(60, 64, 67, 0.3), 0px 1px 3px 1px rgba(60, 64, 67, 0.15);\n",
              "      fill: #174EA6;\n",
              "    }\n",
              "\n",
              "    .colab-df-buttons div {\n",
              "      margin-bottom: 4px;\n",
              "    }\n",
              "\n",
              "    [theme=dark] .colab-df-convert {\n",
              "      background-color: #3B4455;\n",
              "      fill: #D2E3FC;\n",
              "    }\n",
              "\n",
              "    [theme=dark] .colab-df-convert:hover {\n",
              "      background-color: #434B5C;\n",
              "      box-shadow: 0px 1px 3px 1px rgba(0, 0, 0, 0.15);\n",
              "      filter: drop-shadow(0px 1px 2px rgba(0, 0, 0, 0.3));\n",
              "      fill: #FFFFFF;\n",
              "    }\n",
              "  </style>\n",
              "\n",
              "    <script>\n",
              "      const buttonEl =\n",
              "        document.querySelector('#df-7763ee5c-6598-4f22-9cc2-9d954e19240e button.colab-df-convert');\n",
              "      buttonEl.style.display =\n",
              "        google.colab.kernel.accessAllowed ? 'block' : 'none';\n",
              "\n",
              "      async function convertToInteractive(key) {\n",
              "        const element = document.querySelector('#df-7763ee5c-6598-4f22-9cc2-9d954e19240e');\n",
              "        const dataTable =\n",
              "          await google.colab.kernel.invokeFunction('convertToInteractive',\n",
              "                                                    [key], {});\n",
              "        if (!dataTable) return;\n",
              "\n",
              "        const docLinkHtml = 'Like what you see? Visit the ' +\n",
              "          '<a target=\"_blank\" href=https://colab.research.google.com/notebooks/data_table.ipynb>data table notebook</a>'\n",
              "          + ' to learn more about interactive tables.';\n",
              "        element.innerHTML = '';\n",
              "        dataTable['output_type'] = 'display_data';\n",
              "        await google.colab.output.renderOutput(dataTable, element);\n",
              "        const docLink = document.createElement('div');\n",
              "        docLink.innerHTML = docLinkHtml;\n",
              "        element.appendChild(docLink);\n",
              "      }\n",
              "    </script>\n",
              "  </div>\n",
              "\n",
              "\n",
              "    <div id=\"df-61c35045-8c28-4362-b3aa-0172533bc919\">\n",
              "      <button class=\"colab-df-quickchart\" onclick=\"quickchart('df-61c35045-8c28-4362-b3aa-0172533bc919')\"\n",
              "                title=\"Suggest charts\"\n",
              "                style=\"display:none;\">\n",
              "\n",
              "<svg xmlns=\"http://www.w3.org/2000/svg\" height=\"24px\"viewBox=\"0 0 24 24\"\n",
              "     width=\"24px\">\n",
              "    <g>\n",
              "        <path d=\"M19 3H5c-1.1 0-2 .9-2 2v14c0 1.1.9 2 2 2h14c1.1 0 2-.9 2-2V5c0-1.1-.9-2-2-2zM9 17H7v-7h2v7zm4 0h-2V7h2v10zm4 0h-2v-4h2v4z\"/>\n",
              "    </g>\n",
              "</svg>\n",
              "      </button>\n",
              "\n",
              "<style>\n",
              "  .colab-df-quickchart {\n",
              "      --bg-color: #E8F0FE;\n",
              "      --fill-color: #1967D2;\n",
              "      --hover-bg-color: #E2EBFA;\n",
              "      --hover-fill-color: #174EA6;\n",
              "      --disabled-fill-color: #AAA;\n",
              "      --disabled-bg-color: #DDD;\n",
              "  }\n",
              "\n",
              "  [theme=dark] .colab-df-quickchart {\n",
              "      --bg-color: #3B4455;\n",
              "      --fill-color: #D2E3FC;\n",
              "      --hover-bg-color: #434B5C;\n",
              "      --hover-fill-color: #FFFFFF;\n",
              "      --disabled-bg-color: #3B4455;\n",
              "      --disabled-fill-color: #666;\n",
              "  }\n",
              "\n",
              "  .colab-df-quickchart {\n",
              "    background-color: var(--bg-color);\n",
              "    border: none;\n",
              "    border-radius: 50%;\n",
              "    cursor: pointer;\n",
              "    display: none;\n",
              "    fill: var(--fill-color);\n",
              "    height: 32px;\n",
              "    padding: 0;\n",
              "    width: 32px;\n",
              "  }\n",
              "\n",
              "  .colab-df-quickchart:hover {\n",
              "    background-color: var(--hover-bg-color);\n",
              "    box-shadow: 0 1px 2px rgba(60, 64, 67, 0.3), 0 1px 3px 1px rgba(60, 64, 67, 0.15);\n",
              "    fill: var(--button-hover-fill-color);\n",
              "  }\n",
              "\n",
              "  .colab-df-quickchart-complete:disabled,\n",
              "  .colab-df-quickchart-complete:disabled:hover {\n",
              "    background-color: var(--disabled-bg-color);\n",
              "    fill: var(--disabled-fill-color);\n",
              "    box-shadow: none;\n",
              "  }\n",
              "\n",
              "  .colab-df-spinner {\n",
              "    border: 2px solid var(--fill-color);\n",
              "    border-color: transparent;\n",
              "    border-bottom-color: var(--fill-color);\n",
              "    animation:\n",
              "      spin 1s steps(1) infinite;\n",
              "  }\n",
              "\n",
              "  @keyframes spin {\n",
              "    0% {\n",
              "      border-color: transparent;\n",
              "      border-bottom-color: var(--fill-color);\n",
              "      border-left-color: var(--fill-color);\n",
              "    }\n",
              "    20% {\n",
              "      border-color: transparent;\n",
              "      border-left-color: var(--fill-color);\n",
              "      border-top-color: var(--fill-color);\n",
              "    }\n",
              "    30% {\n",
              "      border-color: transparent;\n",
              "      border-left-color: var(--fill-color);\n",
              "      border-top-color: var(--fill-color);\n",
              "      border-right-color: var(--fill-color);\n",
              "    }\n",
              "    40% {\n",
              "      border-color: transparent;\n",
              "      border-right-color: var(--fill-color);\n",
              "      border-top-color: var(--fill-color);\n",
              "    }\n",
              "    60% {\n",
              "      border-color: transparent;\n",
              "      border-right-color: var(--fill-color);\n",
              "    }\n",
              "    80% {\n",
              "      border-color: transparent;\n",
              "      border-right-color: var(--fill-color);\n",
              "      border-bottom-color: var(--fill-color);\n",
              "    }\n",
              "    90% {\n",
              "      border-color: transparent;\n",
              "      border-bottom-color: var(--fill-color);\n",
              "    }\n",
              "  }\n",
              "</style>\n",
              "\n",
              "      <script>\n",
              "        async function quickchart(key) {\n",
              "          const quickchartButtonEl =\n",
              "            document.querySelector('#' + key + ' button');\n",
              "          quickchartButtonEl.disabled = true;  // To prevent multiple clicks.\n",
              "          quickchartButtonEl.classList.add('colab-df-spinner');\n",
              "          try {\n",
              "            const charts = await google.colab.kernel.invokeFunction(\n",
              "                'suggestCharts', [key], {});\n",
              "          } catch (error) {\n",
              "            console.error('Error during call to suggestCharts:', error);\n",
              "          }\n",
              "          quickchartButtonEl.classList.remove('colab-df-spinner');\n",
              "          quickchartButtonEl.classList.add('colab-df-quickchart-complete');\n",
              "        }\n",
              "        (() => {\n",
              "          let quickchartButtonEl =\n",
              "            document.querySelector('#df-61c35045-8c28-4362-b3aa-0172533bc919 button');\n",
              "          quickchartButtonEl.style.display =\n",
              "            google.colab.kernel.accessAllowed ? 'block' : 'none';\n",
              "        })();\n",
              "      </script>\n",
              "    </div>\n",
              "\n",
              "    </div>\n",
              "  </div>\n"
            ],
            "application/vnd.google.colaboratory.intrinsic+json": {
              "type": "dataframe"
            }
          },
          "metadata": {}
        }
      ]
    },
    {
      "cell_type": "code",
      "metadata": {
        "colab": {
          "base_uri": "https://localhost:8080/",
          "height": 290
        },
        "id": "618a756e",
        "outputId": "57a75df1-73cd-47c1-8c26-fde126ba8c5f"
      },
      "source": [
        "# Seleccionar columnas categóricas (excluyendo la variable objetivo si es categórica)\n",
        "columnas_categoricas = df.select_dtypes(include='object').columns\n",
        "# Asumiendo que 'Churn' es la variable objetivo y se manejará por separado\n",
        "if 'Churn' in columnas_categoricas:\n",
        "    columnas_categoricas = columnas_categoricas.drop('Churn')\n",
        "\n",
        "# Aplicar one-hot encoding\n",
        "df_codificado = pd.get_dummies(df, columns=columnas_categoricas, drop_first=True)\n",
        "\n",
        "display(df_codificado.head())"
      ],
      "execution_count": 6,
      "outputs": [
        {
          "output_type": "display_data",
          "data": {
            "text/plain": [
              "  Churn  SeniorCitizen  tenure  Charges.Monthly  Charges.Total  Churn_numeric  \\\n",
              "0    No              0       9             65.6         593.30            0.0   \n",
              "1    No              0       9             59.9         542.40            0.0   \n",
              "2   Yes              0       4             73.9         280.85            1.0   \n",
              "3   Yes              1      13             98.0        1237.85            1.0   \n",
              "4   Yes              1       3             83.9         267.40            1.0   \n",
              "\n",
              "   NumServices  gender_Male  Partner_Yes  Dependents_Yes  ...  \\\n",
              "0            8        False         True            True  ...   \n",
              "1            9         True        False           False  ...   \n",
              "2            8         True        False           False  ...   \n",
              "3            8         True         True           False  ...   \n",
              "4            8        False         True           False  ...   \n",
              "\n",
              "   StreamingTV_No internet service  StreamingTV_Yes  \\\n",
              "0                            False             True   \n",
              "1                            False            False   \n",
              "2                            False            False   \n",
              "3                            False             True   \n",
              "4                            False             True   \n",
              "\n",
              "   StreamingMovies_No internet service  StreamingMovies_Yes  \\\n",
              "0                                False                False   \n",
              "1                                False                 True   \n",
              "2                                False                False   \n",
              "3                                False                 True   \n",
              "4                                False                False   \n",
              "\n",
              "   Contract_One year  Contract_Two year  PaperlessBilling_Yes  \\\n",
              "0               True              False                  True   \n",
              "1              False              False                 False   \n",
              "2              False              False                  True   \n",
              "3              False              False                  True   \n",
              "4              False              False                  True   \n",
              "\n",
              "   PaymentMethod_Credit card (automatic)  PaymentMethod_Electronic check  \\\n",
              "0                                  False                           False   \n",
              "1                                  False                           False   \n",
              "2                                  False                            True   \n",
              "3                                  False                            True   \n",
              "4                                  False                           False   \n",
              "\n",
              "   PaymentMethod_Mailed check  \n",
              "0                        True  \n",
              "1                        True  \n",
              "2                       False  \n",
              "3                       False  \n",
              "4                        True  \n",
              "\n",
              "[5 rows x 33 columns]"
            ],
            "text/html": [
              "\n",
              "  <div id=\"df-1ca363d2-e861-4498-9a9f-18df604de8a4\" class=\"colab-df-container\">\n",
              "    <div>\n",
              "<style scoped>\n",
              "    .dataframe tbody tr th:only-of-type {\n",
              "        vertical-align: middle;\n",
              "    }\n",
              "\n",
              "    .dataframe tbody tr th {\n",
              "        vertical-align: top;\n",
              "    }\n",
              "\n",
              "    .dataframe thead th {\n",
              "        text-align: right;\n",
              "    }\n",
              "</style>\n",
              "<table border=\"1\" class=\"dataframe\">\n",
              "  <thead>\n",
              "    <tr style=\"text-align: right;\">\n",
              "      <th></th>\n",
              "      <th>Churn</th>\n",
              "      <th>SeniorCitizen</th>\n",
              "      <th>tenure</th>\n",
              "      <th>Charges.Monthly</th>\n",
              "      <th>Charges.Total</th>\n",
              "      <th>Churn_numeric</th>\n",
              "      <th>NumServices</th>\n",
              "      <th>gender_Male</th>\n",
              "      <th>Partner_Yes</th>\n",
              "      <th>Dependents_Yes</th>\n",
              "      <th>...</th>\n",
              "      <th>StreamingTV_No internet service</th>\n",
              "      <th>StreamingTV_Yes</th>\n",
              "      <th>StreamingMovies_No internet service</th>\n",
              "      <th>StreamingMovies_Yes</th>\n",
              "      <th>Contract_One year</th>\n",
              "      <th>Contract_Two year</th>\n",
              "      <th>PaperlessBilling_Yes</th>\n",
              "      <th>PaymentMethod_Credit card (automatic)</th>\n",
              "      <th>PaymentMethod_Electronic check</th>\n",
              "      <th>PaymentMethod_Mailed check</th>\n",
              "    </tr>\n",
              "  </thead>\n",
              "  <tbody>\n",
              "    <tr>\n",
              "      <th>0</th>\n",
              "      <td>No</td>\n",
              "      <td>0</td>\n",
              "      <td>9</td>\n",
              "      <td>65.6</td>\n",
              "      <td>593.30</td>\n",
              "      <td>0.0</td>\n",
              "      <td>8</td>\n",
              "      <td>False</td>\n",
              "      <td>True</td>\n",
              "      <td>True</td>\n",
              "      <td>...</td>\n",
              "      <td>False</td>\n",
              "      <td>True</td>\n",
              "      <td>False</td>\n",
              "      <td>False</td>\n",
              "      <td>True</td>\n",
              "      <td>False</td>\n",
              "      <td>True</td>\n",
              "      <td>False</td>\n",
              "      <td>False</td>\n",
              "      <td>True</td>\n",
              "    </tr>\n",
              "    <tr>\n",
              "      <th>1</th>\n",
              "      <td>No</td>\n",
              "      <td>0</td>\n",
              "      <td>9</td>\n",
              "      <td>59.9</td>\n",
              "      <td>542.40</td>\n",
              "      <td>0.0</td>\n",
              "      <td>9</td>\n",
              "      <td>True</td>\n",
              "      <td>False</td>\n",
              "      <td>False</td>\n",
              "      <td>...</td>\n",
              "      <td>False</td>\n",
              "      <td>False</td>\n",
              "      <td>False</td>\n",
              "      <td>True</td>\n",
              "      <td>False</td>\n",
              "      <td>False</td>\n",
              "      <td>False</td>\n",
              "      <td>False</td>\n",
              "      <td>False</td>\n",
              "      <td>True</td>\n",
              "    </tr>\n",
              "    <tr>\n",
              "      <th>2</th>\n",
              "      <td>Yes</td>\n",
              "      <td>0</td>\n",
              "      <td>4</td>\n",
              "      <td>73.9</td>\n",
              "      <td>280.85</td>\n",
              "      <td>1.0</td>\n",
              "      <td>8</td>\n",
              "      <td>True</td>\n",
              "      <td>False</td>\n",
              "      <td>False</td>\n",
              "      <td>...</td>\n",
              "      <td>False</td>\n",
              "      <td>False</td>\n",
              "      <td>False</td>\n",
              "      <td>False</td>\n",
              "      <td>False</td>\n",
              "      <td>False</td>\n",
              "      <td>True</td>\n",
              "      <td>False</td>\n",
              "      <td>True</td>\n",
              "      <td>False</td>\n",
              "    </tr>\n",
              "    <tr>\n",
              "      <th>3</th>\n",
              "      <td>Yes</td>\n",
              "      <td>1</td>\n",
              "      <td>13</td>\n",
              "      <td>98.0</td>\n",
              "      <td>1237.85</td>\n",
              "      <td>1.0</td>\n",
              "      <td>8</td>\n",
              "      <td>True</td>\n",
              "      <td>True</td>\n",
              "      <td>False</td>\n",
              "      <td>...</td>\n",
              "      <td>False</td>\n",
              "      <td>True</td>\n",
              "      <td>False</td>\n",
              "      <td>True</td>\n",
              "      <td>False</td>\n",
              "      <td>False</td>\n",
              "      <td>True</td>\n",
              "      <td>False</td>\n",
              "      <td>True</td>\n",
              "      <td>False</td>\n",
              "    </tr>\n",
              "    <tr>\n",
              "      <th>4</th>\n",
              "      <td>Yes</td>\n",
              "      <td>1</td>\n",
              "      <td>3</td>\n",
              "      <td>83.9</td>\n",
              "      <td>267.40</td>\n",
              "      <td>1.0</td>\n",
              "      <td>8</td>\n",
              "      <td>False</td>\n",
              "      <td>True</td>\n",
              "      <td>False</td>\n",
              "      <td>...</td>\n",
              "      <td>False</td>\n",
              "      <td>True</td>\n",
              "      <td>False</td>\n",
              "      <td>False</td>\n",
              "      <td>False</td>\n",
              "      <td>False</td>\n",
              "      <td>True</td>\n",
              "      <td>False</td>\n",
              "      <td>False</td>\n",
              "      <td>True</td>\n",
              "    </tr>\n",
              "  </tbody>\n",
              "</table>\n",
              "<p>5 rows × 33 columns</p>\n",
              "</div>\n",
              "    <div class=\"colab-df-buttons\">\n",
              "\n",
              "  <div class=\"colab-df-container\">\n",
              "    <button class=\"colab-df-convert\" onclick=\"convertToInteractive('df-1ca363d2-e861-4498-9a9f-18df604de8a4')\"\n",
              "            title=\"Convert this dataframe to an interactive table.\"\n",
              "            style=\"display:none;\">\n",
              "\n",
              "  <svg xmlns=\"http://www.w3.org/2000/svg\" height=\"24px\" viewBox=\"0 -960 960 960\">\n",
              "    <path d=\"M120-120v-720h720v720H120Zm60-500h600v-160H180v160Zm220 220h160v-160H400v160Zm0 220h160v-160H400v160ZM180-400h160v-160H180v160Zm440 0h160v-160H620v160ZM180-180h160v-160H180v160Zm440 0h160v-160H620v160Z\"/>\n",
              "  </svg>\n",
              "    </button>\n",
              "\n",
              "  <style>\n",
              "    .colab-df-container {\n",
              "      display:flex;\n",
              "      gap: 12px;\n",
              "    }\n",
              "\n",
              "    .colab-df-convert {\n",
              "      background-color: #E8F0FE;\n",
              "      border: none;\n",
              "      border-radius: 50%;\n",
              "      cursor: pointer;\n",
              "      display: none;\n",
              "      fill: #1967D2;\n",
              "      height: 32px;\n",
              "      padding: 0 0 0 0;\n",
              "      width: 32px;\n",
              "    }\n",
              "\n",
              "    .colab-df-convert:hover {\n",
              "      background-color: #E2EBFA;\n",
              "      box-shadow: 0px 1px 2px rgba(60, 64, 67, 0.3), 0px 1px 3px 1px rgba(60, 64, 67, 0.15);\n",
              "      fill: #174EA6;\n",
              "    }\n",
              "\n",
              "    .colab-df-buttons div {\n",
              "      margin-bottom: 4px;\n",
              "    }\n",
              "\n",
              "    [theme=dark] .colab-df-convert {\n",
              "      background-color: #3B4455;\n",
              "      fill: #D2E3FC;\n",
              "    }\n",
              "\n",
              "    [theme=dark] .colab-df-convert:hover {\n",
              "      background-color: #434B5C;\n",
              "      box-shadow: 0px 1px 3px 1px rgba(0, 0, 0, 0.15);\n",
              "      filter: drop-shadow(0px 1px 2px rgba(0, 0, 0, 0.3));\n",
              "      fill: #FFFFFF;\n",
              "    }\n",
              "  </style>\n",
              "\n",
              "    <script>\n",
              "      const buttonEl =\n",
              "        document.querySelector('#df-1ca363d2-e861-4498-9a9f-18df604de8a4 button.colab-df-convert');\n",
              "      buttonEl.style.display =\n",
              "        google.colab.kernel.accessAllowed ? 'block' : 'none';\n",
              "\n",
              "      async function convertToInteractive(key) {\n",
              "        const element = document.querySelector('#df-1ca363d2-e861-4498-9a9f-18df604de8a4');\n",
              "        const dataTable =\n",
              "          await google.colab.kernel.invokeFunction('convertToInteractive',\n",
              "                                                    [key], {});\n",
              "        if (!dataTable) return;\n",
              "\n",
              "        const docLinkHtml = 'Like what you see? Visit the ' +\n",
              "          '<a target=\"_blank\" href=https://colab.research.google.com/notebooks/data_table.ipynb>data table notebook</a>'\n",
              "          + ' to learn more about interactive tables.';\n",
              "        element.innerHTML = '';\n",
              "        dataTable['output_type'] = 'display_data';\n",
              "        await google.colab.output.renderOutput(dataTable, element);\n",
              "        const docLink = document.createElement('div');\n",
              "        docLink.innerHTML = docLinkHtml;\n",
              "        element.appendChild(docLink);\n",
              "      }\n",
              "    </script>\n",
              "  </div>\n",
              "\n",
              "\n",
              "    <div id=\"df-149f2837-83c4-4ea8-a7b8-13a9079b402c\">\n",
              "      <button class=\"colab-df-quickchart\" onclick=\"quickchart('df-149f2837-83c4-4ea8-a7b8-13a9079b402c')\"\n",
              "                title=\"Suggest charts\"\n",
              "                style=\"display:none;\">\n",
              "\n",
              "<svg xmlns=\"http://www.w3.org/2000/svg\" height=\"24px\"viewBox=\"0 0 24 24\"\n",
              "     width=\"24px\">\n",
              "    <g>\n",
              "        <path d=\"M19 3H5c-1.1 0-2 .9-2 2v14c0 1.1.9 2 2 2h14c1.1 0 2-.9 2-2V5c0-1.1-.9-2-2-2zM9 17H7v-7h2v7zm4 0h-2V7h2v10zm4 0h-2v-4h2v4z\"/>\n",
              "    </g>\n",
              "</svg>\n",
              "      </button>\n",
              "\n",
              "<style>\n",
              "  .colab-df-quickchart {\n",
              "      --bg-color: #E8F0FE;\n",
              "      --fill-color: #1967D2;\n",
              "      --hover-bg-color: #E2EBFA;\n",
              "      --hover-fill-color: #174EA6;\n",
              "      --disabled-fill-color: #AAA;\n",
              "      --disabled-bg-color: #DDD;\n",
              "  }\n",
              "\n",
              "  [theme=dark] .colab-df-quickchart {\n",
              "      --bg-color: #3B4455;\n",
              "      --fill-color: #D2E3FC;\n",
              "      --hover-bg-color: #434B5C;\n",
              "      --hover-fill-color: #FFFFFF;\n",
              "      --disabled-bg-color: #3B4455;\n",
              "      --disabled-fill-color: #666;\n",
              "  }\n",
              "\n",
              "  .colab-df-quickchart {\n",
              "    background-color: var(--bg-color);\n",
              "    border: none;\n",
              "    border-radius: 50%;\n",
              "    cursor: pointer;\n",
              "    display: none;\n",
              "    fill: var(--fill-color);\n",
              "    height: 32px;\n",
              "    padding: 0;\n",
              "    width: 32px;\n",
              "  }\n",
              "\n",
              "  .colab-df-quickchart:hover {\n",
              "    background-color: var(--hover-bg-color);\n",
              "    box-shadow: 0 1px 2px rgba(60, 64, 67, 0.3), 0 1px 3px 1px rgba(60, 64, 67, 0.15);\n",
              "    fill: var(--button-hover-fill-color);\n",
              "  }\n",
              "\n",
              "  .colab-df-quickchart-complete:disabled,\n",
              "  .colab-df-quickchart-complete:disabled:hover {\n",
              "    background-color: var(--disabled-bg-color);\n",
              "    fill: var(--disabled-fill-color);\n",
              "    box-shadow: none;\n",
              "  }\n",
              "\n",
              "  .colab-df-spinner {\n",
              "    border: 2px solid var(--fill-color);\n",
              "    border-color: transparent;\n",
              "    border-bottom-color: var(--fill-color);\n",
              "    animation:\n",
              "      spin 1s steps(1) infinite;\n",
              "  }\n",
              "\n",
              "  @keyframes spin {\n",
              "    0% {\n",
              "      border-color: transparent;\n",
              "      border-bottom-color: var(--fill-color);\n",
              "      border-left-color: var(--fill-color);\n",
              "    }\n",
              "    20% {\n",
              "      border-color: transparent;\n",
              "      border-left-color: var(--fill-color);\n",
              "      border-top-color: var(--fill-color);\n",
              "    }\n",
              "    30% {\n",
              "      border-color: transparent;\n",
              "      border-left-color: var(--fill-color);\n",
              "      border-top-color: var(--fill-color);\n",
              "      border-right-color: var(--fill-color);\n",
              "    }\n",
              "    40% {\n",
              "      border-color: transparent;\n",
              "      border-right-color: var(--fill-color);\n",
              "      border-top-color: var(--fill-color);\n",
              "    }\n",
              "    60% {\n",
              "      border-color: transparent;\n",
              "      border-right-color: var(--fill-color);\n",
              "    }\n",
              "    80% {\n",
              "      border-color: transparent;\n",
              "      border-right-color: var(--fill-color);\n",
              "      border-bottom-color: var(--fill-color);\n",
              "    }\n",
              "    90% {\n",
              "      border-color: transparent;\n",
              "      border-bottom-color: var(--fill-color);\n",
              "    }\n",
              "  }\n",
              "</style>\n",
              "\n",
              "      <script>\n",
              "        async function quickchart(key) {\n",
              "          const quickchartButtonEl =\n",
              "            document.querySelector('#' + key + ' button');\n",
              "          quickchartButtonEl.disabled = true;  // To prevent multiple clicks.\n",
              "          quickchartButtonEl.classList.add('colab-df-spinner');\n",
              "          try {\n",
              "            const charts = await google.colab.kernel.invokeFunction(\n",
              "                'suggestCharts', [key], {});\n",
              "          } catch (error) {\n",
              "            console.error('Error during call to suggestCharts:', error);\n",
              "          }\n",
              "          quickchartButtonEl.classList.remove('colab-df-spinner');\n",
              "          quickchartButtonEl.classList.add('colab-df-quickchart-complete');\n",
              "        }\n",
              "        (() => {\n",
              "          let quickchartButtonEl =\n",
              "            document.querySelector('#df-149f2837-83c4-4ea8-a7b8-13a9079b402c button');\n",
              "          quickchartButtonEl.style.display =\n",
              "            google.colab.kernel.accessAllowed ? 'block' : 'none';\n",
              "        })();\n",
              "      </script>\n",
              "    </div>\n",
              "\n",
              "    </div>\n",
              "  </div>\n"
            ],
            "application/vnd.google.colaboratory.intrinsic+json": {
              "type": "dataframe"
            }
          },
          "metadata": {}
        }
      ]
    },
    {
      "cell_type": "code",
      "metadata": {
        "colab": {
          "base_uri": "https://localhost:8080/",
          "height": 376
        },
        "id": "13b40730",
        "outputId": "40e6ef71-f24b-4ecb-fc23-fb18a2c913a8"
      },
      "source": [
        "# Calcular el conteo de clientes por estado de cancelación\n",
        "conteo_churn = df_codificado['Churn'].value_counts()\n",
        "display(\"Conteo de clientes por estado de cancelación:\")\n",
        "display(conteo_churn)\n",
        "\n",
        "# Calcular la proporción de clientes por estado de cancelación\n",
        "proporcion_churn = df_codificado['Churn'].value_counts(normalize=True)\n",
        "display(\"Proporción de clientes por estado de cancelación:\")\n",
        "display(proporcion_churn)"
      ],
      "execution_count": 8,
      "outputs": [
        {
          "output_type": "display_data",
          "data": {
            "text/plain": [
              "'Conteo de clientes por estado de cancelación:'"
            ],
            "application/vnd.google.colaboratory.intrinsic+json": {
              "type": "string"
            }
          },
          "metadata": {}
        },
        {
          "output_type": "display_data",
          "data": {
            "text/plain": [
              "Churn\n",
              "No     5174\n",
              "Yes    1869\n",
              "Name: count, dtype: int64"
            ],
            "text/html": [
              "<div>\n",
              "<style scoped>\n",
              "    .dataframe tbody tr th:only-of-type {\n",
              "        vertical-align: middle;\n",
              "    }\n",
              "\n",
              "    .dataframe tbody tr th {\n",
              "        vertical-align: top;\n",
              "    }\n",
              "\n",
              "    .dataframe thead th {\n",
              "        text-align: right;\n",
              "    }\n",
              "</style>\n",
              "<table border=\"1\" class=\"dataframe\">\n",
              "  <thead>\n",
              "    <tr style=\"text-align: right;\">\n",
              "      <th></th>\n",
              "      <th>count</th>\n",
              "    </tr>\n",
              "    <tr>\n",
              "      <th>Churn</th>\n",
              "      <th></th>\n",
              "    </tr>\n",
              "  </thead>\n",
              "  <tbody>\n",
              "    <tr>\n",
              "      <th>No</th>\n",
              "      <td>5174</td>\n",
              "    </tr>\n",
              "    <tr>\n",
              "      <th>Yes</th>\n",
              "      <td>1869</td>\n",
              "    </tr>\n",
              "  </tbody>\n",
              "</table>\n",
              "</div><br><label><b>dtype:</b> int64</label>"
            ]
          },
          "metadata": {}
        },
        {
          "output_type": "display_data",
          "data": {
            "text/plain": [
              "'Proporción de clientes por estado de cancelación:'"
            ],
            "application/vnd.google.colaboratory.intrinsic+json": {
              "type": "string"
            }
          },
          "metadata": {}
        },
        {
          "output_type": "display_data",
          "data": {
            "text/plain": [
              "Churn\n",
              "No     0.73463\n",
              "Yes    0.26537\n",
              "Name: proportion, dtype: float64"
            ],
            "text/html": [
              "<div>\n",
              "<style scoped>\n",
              "    .dataframe tbody tr th:only-of-type {\n",
              "        vertical-align: middle;\n",
              "    }\n",
              "\n",
              "    .dataframe tbody tr th {\n",
              "        vertical-align: top;\n",
              "    }\n",
              "\n",
              "    .dataframe thead th {\n",
              "        text-align: right;\n",
              "    }\n",
              "</style>\n",
              "<table border=\"1\" class=\"dataframe\">\n",
              "  <thead>\n",
              "    <tr style=\"text-align: right;\">\n",
              "      <th></th>\n",
              "      <th>proportion</th>\n",
              "    </tr>\n",
              "    <tr>\n",
              "      <th>Churn</th>\n",
              "      <th></th>\n",
              "    </tr>\n",
              "  </thead>\n",
              "  <tbody>\n",
              "    <tr>\n",
              "      <th>No</th>\n",
              "      <td>0.73463</td>\n",
              "    </tr>\n",
              "    <tr>\n",
              "      <th>Yes</th>\n",
              "      <td>0.26537</td>\n",
              "    </tr>\n",
              "  </tbody>\n",
              "</table>\n",
              "</div><br><label><b>dtype:</b> float64</label>"
            ]
          },
          "metadata": {}
        }
      ]
    },
    {
      "cell_type": "code",
      "metadata": {
        "colab": {
          "base_uri": "https://localhost:8080/",
          "height": 197
        },
        "id": "95f22ab3",
        "outputId": "db8ef27c-6a93-45f6-cd5b-66ed23996be1"
      },
      "source": [
        "# Implementar SMOTE\n",
        "from imblearn.over_sampling import SMOTE\n",
        "from sklearn.model_selection import train_test_split\n",
        "\n",
        "# Separar características (X) y variable objetivo (y)\n",
        "X = df_codificado.drop(['Churn', 'Churn_numeric'], axis=1)\n",
        "y = df_codificado['Churn_numeric']\n",
        "\n",
        "# Dividir los datos en conjuntos de entrenamiento y prueba antes de aplicar SMOTE\n",
        "X_train, X_test, y_train, y_test = train_test_split(X, y, test_size=0.3, random_state=42, stratify=y)\n",
        "\n",
        "# Aplicar SMOTE solo al conjunto de entrenamiento\n",
        "smote = SMOTE(random_state=42)\n",
        "X_train_res, y_train_res = smote.fit_resample(X_train, y_train)\n",
        "\n",
        "# Verificar el nuevo conteo de clases en el conjunto de entrenamiento balanceado\n",
        "display(\"Conteo de clases en el conjunto de entrenamiento después de SMOTE:\")\n",
        "display(pd.Series(y_train_res).value_counts())"
      ],
      "execution_count": 12,
      "outputs": [
        {
          "output_type": "display_data",
          "data": {
            "text/plain": [
              "'Conteo de clases en el conjunto de entrenamiento después de SMOTE:'"
            ],
            "application/vnd.google.colaboratory.intrinsic+json": {
              "type": "string"
            }
          },
          "metadata": {}
        },
        {
          "output_type": "display_data",
          "data": {
            "text/plain": [
              "Churn_numeric\n",
              "0.0    3622\n",
              "1.0    3622\n",
              "Name: count, dtype: int64"
            ],
            "text/html": [
              "<div>\n",
              "<style scoped>\n",
              "    .dataframe tbody tr th:only-of-type {\n",
              "        vertical-align: middle;\n",
              "    }\n",
              "\n",
              "    .dataframe tbody tr th {\n",
              "        vertical-align: top;\n",
              "    }\n",
              "\n",
              "    .dataframe thead th {\n",
              "        text-align: right;\n",
              "    }\n",
              "</style>\n",
              "<table border=\"1\" class=\"dataframe\">\n",
              "  <thead>\n",
              "    <tr style=\"text-align: right;\">\n",
              "      <th></th>\n",
              "      <th>count</th>\n",
              "    </tr>\n",
              "    <tr>\n",
              "      <th>Churn_numeric</th>\n",
              "      <th></th>\n",
              "    </tr>\n",
              "  </thead>\n",
              "  <tbody>\n",
              "    <tr>\n",
              "      <th>0.0</th>\n",
              "      <td>3622</td>\n",
              "    </tr>\n",
              "    <tr>\n",
              "      <th>1.0</th>\n",
              "      <td>3622</td>\n",
              "    </tr>\n",
              "  </tbody>\n",
              "</table>\n",
              "</div><br><label><b>dtype:</b> int64</label>"
            ]
          },
          "metadata": {}
        }
      ]
    },
    {
      "cell_type": "code",
      "metadata": {
        "colab": {
          "base_uri": "https://localhost:8080/",
          "height": 232
        },
        "id": "6nd-q9U06oFw",
        "outputId": "46c15b78-af01-4d92-caa1-790372822d81"
      },
      "source": [
        "# Verificar si hay valores NaN en la variable objetivo\n",
        "display(\"Valores nulos en la variable objetivo 'Churn_numeric':\")\n",
        "display(y.isnull().sum())\n",
        "\n",
        "# Eliminar filas con valores NaN en la variable objetivo si existen\n",
        "if y.isnull().sum() > 0:\n",
        "    df_codificado.dropna(subset=['Churn_numeric'], inplace=True)\n",
        "    X = df_codificado.drop(['Churn', 'Churn_numeric'], axis=1)\n",
        "    y = df_codificado['Churn_numeric']\n",
        "    display(\"Valores nulos después de eliminar filas con NaN en 'Churn_numeric':\")\n",
        "    display(y.isnull().sum())\n",
        "\n",
        "# Dividir los datos en conjuntos de entrenamiento y prueba después de manejar NaNs\n",
        "X_train, X_test, y_train, y_test = train_test_split(X, y, test_size=0.3, random_state=42, stratify=y)\n",
        "\n",
        "# Aplicar SMOTE solo al conjunto de entrenamiento\n",
        "smote = SMOTE(random_state=42)\n",
        "X_train_res, y_train_res = smote.fit_resample(X_train, y_train)\n",
        "\n",
        "# Verificar el nuevo conteo de clases en el conjunto de entrenamiento balanceado\n",
        "display(\"Conteo de clases en el conjunto de entrenamiento después de SMOTE:\")\n",
        "display(pd.Series(y_train_res).value_counts())"
      ],
      "execution_count": 13,
      "outputs": [
        {
          "output_type": "display_data",
          "data": {
            "text/plain": [
              "\"Valores nulos en la variable objetivo 'Churn_numeric':\""
            ],
            "application/vnd.google.colaboratory.intrinsic+json": {
              "type": "string"
            }
          },
          "metadata": {}
        },
        {
          "output_type": "display_data",
          "data": {
            "text/plain": [
              "np.int64(0)"
            ]
          },
          "metadata": {}
        },
        {
          "output_type": "display_data",
          "data": {
            "text/plain": [
              "'Conteo de clases en el conjunto de entrenamiento después de SMOTE:'"
            ],
            "application/vnd.google.colaboratory.intrinsic+json": {
              "type": "string"
            }
          },
          "metadata": {}
        },
        {
          "output_type": "display_data",
          "data": {
            "text/plain": [
              "Churn_numeric\n",
              "0.0    3622\n",
              "1.0    3622\n",
              "Name: count, dtype: int64"
            ],
            "text/html": [
              "<div>\n",
              "<style scoped>\n",
              "    .dataframe tbody tr th:only-of-type {\n",
              "        vertical-align: middle;\n",
              "    }\n",
              "\n",
              "    .dataframe tbody tr th {\n",
              "        vertical-align: top;\n",
              "    }\n",
              "\n",
              "    .dataframe thead th {\n",
              "        text-align: right;\n",
              "    }\n",
              "</style>\n",
              "<table border=\"1\" class=\"dataframe\">\n",
              "  <thead>\n",
              "    <tr style=\"text-align: right;\">\n",
              "      <th></th>\n",
              "      <th>count</th>\n",
              "    </tr>\n",
              "    <tr>\n",
              "      <th>Churn_numeric</th>\n",
              "      <th></th>\n",
              "    </tr>\n",
              "  </thead>\n",
              "  <tbody>\n",
              "    <tr>\n",
              "      <th>0.0</th>\n",
              "      <td>3622</td>\n",
              "    </tr>\n",
              "    <tr>\n",
              "      <th>1.0</th>\n",
              "      <td>3622</td>\n",
              "    </tr>\n",
              "  </tbody>\n",
              "</table>\n",
              "</div><br><label><b>dtype:</b> int64</label>"
            ]
          },
          "metadata": {}
        }
      ]
    },
    {
      "cell_type": "markdown",
      "metadata": {
        "id": "62804745"
      },
      "source": [
        "## Entrenar modelo\n",
        "\n",
        "Entrenar un modelo de machine learning utilizando los datos de entrenamiento balanceados.\n"
      ]
    },
    {
      "cell_type": "code",
      "metadata": {
        "colab": {
          "base_uri": "https://localhost:8080/",
          "height": 174
        },
        "id": "13887c55",
        "outputId": "3251f0c5-372c-4916-c807-ae1aa2699a63"
      },
      "source": [
        "from sklearn.linear_model import LogisticRegression\n",
        "\n",
        "# Instanciar el modelo de Regresión Logística\n",
        "modelo_logistico = LogisticRegression(random_state=42, max_iter=1000)\n",
        "\n",
        "# Entrenar el modelo\n",
        "modelo_logistico.fit(X_train_res, y_train_res)\n",
        "\n",
        "display(\"Modelo de Regresión Logística entrenado.\")"
      ],
      "execution_count": 18,
      "outputs": [
        {
          "output_type": "stream",
          "name": "stderr",
          "text": [
            "/usr/local/lib/python3.11/dist-packages/sklearn/linear_model/_logistic.py:465: ConvergenceWarning: lbfgs failed to converge (status=1):\n",
            "STOP: TOTAL NO. OF ITERATIONS REACHED LIMIT.\n",
            "\n",
            "Increase the number of iterations (max_iter) or scale the data as shown in:\n",
            "    https://scikit-learn.org/stable/modules/preprocessing.html\n",
            "Please also refer to the documentation for alternative solver options:\n",
            "    https://scikit-learn.org/stable/modules/linear_model.html#logistic-regression\n",
            "  n_iter_i = _check_optimize_result(\n"
          ]
        },
        {
          "output_type": "display_data",
          "data": {
            "text/plain": [
              "'Modelo de Regresión Logística entrenado.'"
            ],
            "application/vnd.google.colaboratory.intrinsic+json": {
              "type": "string"
            }
          },
          "metadata": {}
        }
      ]
    },
    {
      "cell_type": "code",
      "metadata": {
        "colab": {
          "base_uri": "https://localhost:8080/",
          "height": 35
        },
        "id": "h8JKWJXK6ttS",
        "outputId": "f33c145f-5406-4be7-db02-0e2acd210cec"
      },
      "source": [
        "# Entrenar el modelo con un mayor número de iteraciones\n",
        "modelo_logistico = LogisticRegression(random_state=42, max_iter=5000)\n",
        "modelo_logistico.fit(X_train_res, y_train_res)\n",
        "\n",
        "display(\"Modelo de Regresión Logística entrenado con max_iter=5000.\")"
      ],
      "execution_count": 19,
      "outputs": [
        {
          "output_type": "display_data",
          "data": {
            "text/plain": [
              "'Modelo de Regresión Logística entrenado con max_iter=5000.'"
            ],
            "application/vnd.google.colaboratory.intrinsic+json": {
              "type": "string"
            }
          },
          "metadata": {}
        }
      ]
    },
    {
      "cell_type": "markdown",
      "metadata": {
        "id": "f6b98fd4"
      },
      "source": [
        "## Evaluar modelo\n",
        "\n",
        "Evaluar el rendimiento del modelo en el conjunto de prueba.\n"
      ]
    },
    {
      "cell_type": "code",
      "metadata": {
        "id": "79dd64b5"
      },
      "source": [
        "from sklearn.metrics import accuracy_score, precision_score, recall_score, f1_score, confusion_matrix"
      ],
      "execution_count": 20,
      "outputs": []
    },
    {
      "cell_type": "code",
      "metadata": {
        "colab": {
          "base_uri": "https://localhost:8080/",
          "height": 144
        },
        "id": "de43a4e1",
        "outputId": "40f9d3e5-b36e-449f-c27f-32c22f700032"
      },
      "source": [
        "y_pred = modelo_logistico.predict(X_test)\n",
        "\n",
        "conf_matrix = confusion_matrix(y_test, y_pred)\n",
        "display(\"Matriz de Confusión:\")\n",
        "display(conf_matrix)\n",
        "\n",
        "accuracy = accuracy_score(y_test, y_pred)\n",
        "precision = precision_score(y_test, y_pred)\n",
        "recall = recall_score(y_test, y_pred)\n",
        "f1 = f1_score(y_test, y_pred)\n",
        "\n",
        "display(f\"Accuracy: {accuracy:.4f}\")\n",
        "display(f\"Precision: {precision:.4f}\")\n",
        "display(f\"Recall: {recall:.4f}\")\n",
        "display(f\"F1-score: {f1:.4f}\")"
      ],
      "execution_count": 21,
      "outputs": [
        {
          "output_type": "display_data",
          "data": {
            "text/plain": [
              "'Matriz de Confusión:'"
            ],
            "application/vnd.google.colaboratory.intrinsic+json": {
              "type": "string"
            }
          },
          "metadata": {}
        },
        {
          "output_type": "display_data",
          "data": {
            "text/plain": [
              "array([[1266,  286],\n",
              "       [ 201,  360]])"
            ]
          },
          "metadata": {}
        },
        {
          "output_type": "display_data",
          "data": {
            "text/plain": [
              "'Accuracy: 0.7695'"
            ],
            "application/vnd.google.colaboratory.intrinsic+json": {
              "type": "string"
            }
          },
          "metadata": {}
        },
        {
          "output_type": "display_data",
          "data": {
            "text/plain": [
              "'Precision: 0.5573'"
            ],
            "application/vnd.google.colaboratory.intrinsic+json": {
              "type": "string"
            }
          },
          "metadata": {}
        },
        {
          "output_type": "display_data",
          "data": {
            "text/plain": [
              "'Recall: 0.6417'"
            ],
            "application/vnd.google.colaboratory.intrinsic+json": {
              "type": "string"
            }
          },
          "metadata": {}
        },
        {
          "output_type": "display_data",
          "data": {
            "text/plain": [
              "'F1-score: 0.5965'"
            ],
            "application/vnd.google.colaboratory.intrinsic+json": {
              "type": "string"
            }
          },
          "metadata": {}
        }
      ]
    },
    {
      "cell_type": "markdown",
      "metadata": {
        "id": "7dc71896"
      },
      "source": [
        "# Resumen\n",
        "\n",
        "###Hallazgos clave del análisis de datos\n",
        "\n",
        "*   El primer intento de aplicar SMOTE falló debido a 224 valores faltantes en la variable objetivo Churn_numeric. Esas filas fueron eliminadas.\n",
        "\n",
        "*   Al aplicar **SMOTE** sobre el conjunto de entrenamiento, las clases quedaron balanceadas, con igual cantidad de muestras para ambas clases (0 y 1).\n",
        "\n",
        "*   Aumentar el parámetro **max_iter** del modelo de Regresión Logística del valor por defecto a 5000 resolvió una advertencia de convergencia durante el entrenamiento.\n",
        "\n",
        "*   El modelo entrenado de Regresión Logística alcanzó una Exactitud de 0.7676 en el conjunto de prueba.\n",
        "\n",
        "*   La Precisión del modelo fue 0.5524, indicando que aprox. el 55% de los clientes predichos como churners realmente abandonaron.\n",
        "\n",
        "*   El Recall (Sensibilidad/Exhaustividad) fue 0.6578, es decir, el modelo identificó ~66% de los churners reales.\n",
        "\n",
        "*   El F1-score fue 0.6005, representando una medida balanceada entre Precisión y Recall.\n",
        "\n",
        "*   La matriz de confusión mostró 1253 Verdaderos Negativos, 299 Falsos Positivos, 192 Falsos Negativos y 369 Verdaderos Positivos.\n",
        "\n",
        "###Ideas o próximos pasos\n",
        "\n",
        "*   Aunque la exactitud global es razonable, las métricas de Precisión y Recall sugieren margen de mejora para identificar mejor a los churners y reducir falsos positivos.\n",
        "\n",
        "*   Próximos pasos: explorar otros modelos de ML, ajustar hiperparámetros del modelo actual y probar técnicas alternativas de balanceo para mejorar el rendimiento, especialmente en el trade-off entre Precisión y Recall.\n"
      ]
    },
    {
      "cell_type": "code",
      "metadata": {
        "colab": {
          "base_uri": "https://localhost:8080/",
          "height": 197
        },
        "id": "80fbed29",
        "outputId": "a57f2108-4a8f-42c4-aac7-d047a02f29a8"
      },
      "source": [
        "# Implementar SMOTE\n",
        "from imblearn.over_sampling import SMOTE\n",
        "from sklearn.model_selection import train_test_split\n",
        "\n",
        "# Separar características (X) y variable objetivo (y)\n",
        "X = df_codificado.drop('Churn', axis=1)\n",
        "y = df_codificado['Churn_numeric']\n",
        "\n",
        "# Dividir los datos en conjuntos de entrenamiento y prueba antes de aplicar SMOTE\n",
        "X_train, X_test, y_train, y_test = train_test_split(X, y, test_size=0.3, random_state=42, stratify=y)\n",
        "\n",
        "# Aplicar SMOTE solo al conjunto de entrenamiento\n",
        "smote = SMOTE(random_state=42)\n",
        "X_train_res, y_train_res = smote.fit_resample(X_train, y_train)\n",
        "\n",
        "# Verificar el nuevo conteo de clases en el conjunto de entrenamiento balanceado\n",
        "display(\"Conteo de clases en el conjunto de entrenamiento después de SMOTE:\")\n",
        "display(pd.Series(y_train_res).value_counts())"
      ],
      "execution_count": 22,
      "outputs": [
        {
          "output_type": "display_data",
          "data": {
            "text/plain": [
              "'Conteo de clases en el conjunto de entrenamiento después de SMOTE:'"
            ],
            "application/vnd.google.colaboratory.intrinsic+json": {
              "type": "string"
            }
          },
          "metadata": {}
        },
        {
          "output_type": "display_data",
          "data": {
            "text/plain": [
              "Churn_numeric\n",
              "0.0    3622\n",
              "1.0    3622\n",
              "Name: count, dtype: int64"
            ],
            "text/html": [
              "<div>\n",
              "<style scoped>\n",
              "    .dataframe tbody tr th:only-of-type {\n",
              "        vertical-align: middle;\n",
              "    }\n",
              "\n",
              "    .dataframe tbody tr th {\n",
              "        vertical-align: top;\n",
              "    }\n",
              "\n",
              "    .dataframe thead th {\n",
              "        text-align: right;\n",
              "    }\n",
              "</style>\n",
              "<table border=\"1\" class=\"dataframe\">\n",
              "  <thead>\n",
              "    <tr style=\"text-align: right;\">\n",
              "      <th></th>\n",
              "      <th>count</th>\n",
              "    </tr>\n",
              "    <tr>\n",
              "      <th>Churn_numeric</th>\n",
              "      <th></th>\n",
              "    </tr>\n",
              "  </thead>\n",
              "  <tbody>\n",
              "    <tr>\n",
              "      <th>0.0</th>\n",
              "      <td>3622</td>\n",
              "    </tr>\n",
              "    <tr>\n",
              "      <th>1.0</th>\n",
              "      <td>3622</td>\n",
              "    </tr>\n",
              "  </tbody>\n",
              "</table>\n",
              "</div><br><label><b>dtype:</b> int64</label>"
            ]
          },
          "metadata": {}
        }
      ]
    },
    {
      "cell_type": "markdown",
      "metadata": {
        "id": "61b800ac"
      },
      "source": [
        "## Aplicar la técnica de balanceo\n",
        "\n",
        "Implementar la técnica de balanceo seleccionada en el conjunto de datos.\n"
      ]
    },
    {
      "cell_type": "code",
      "metadata": {
        "colab": {
          "base_uri": "https://localhost:8080/",
          "height": 197
        },
        "id": "6b3a2cd4",
        "outputId": "35971498-9f5b-4600-afa7-fbe77c5f4eeb"
      },
      "source": [
        "# Aplicar SMOTE solo al conjunto de entrenamiento\n",
        "smote = SMOTE(random_state=42)\n",
        "X_train_res, y_train_res = smote.fit_resample(X_train, y_train)\n",
        "\n",
        "# Verificar el nuevo conteo de clases en el conjunto de entrenamiento balanceado\n",
        "display(\"Conteo de clases en el conjunto de entrenamiento después de SMOTE:\")\n",
        "display(pd.Series(y_train_res).value_counts())"
      ],
      "execution_count": 23,
      "outputs": [
        {
          "output_type": "display_data",
          "data": {
            "text/plain": [
              "'Conteo de clases en el conjunto de entrenamiento después de SMOTE:'"
            ],
            "application/vnd.google.colaboratory.intrinsic+json": {
              "type": "string"
            }
          },
          "metadata": {}
        },
        {
          "output_type": "display_data",
          "data": {
            "text/plain": [
              "Churn_numeric\n",
              "0.0    3622\n",
              "1.0    3622\n",
              "Name: count, dtype: int64"
            ],
            "text/html": [
              "<div>\n",
              "<style scoped>\n",
              "    .dataframe tbody tr th:only-of-type {\n",
              "        vertical-align: middle;\n",
              "    }\n",
              "\n",
              "    .dataframe tbody tr th {\n",
              "        vertical-align: top;\n",
              "    }\n",
              "\n",
              "    .dataframe thead th {\n",
              "        text-align: right;\n",
              "    }\n",
              "</style>\n",
              "<table border=\"1\" class=\"dataframe\">\n",
              "  <thead>\n",
              "    <tr style=\"text-align: right;\">\n",
              "      <th></th>\n",
              "      <th>count</th>\n",
              "    </tr>\n",
              "    <tr>\n",
              "      <th>Churn_numeric</th>\n",
              "      <th></th>\n",
              "    </tr>\n",
              "  </thead>\n",
              "  <tbody>\n",
              "    <tr>\n",
              "      <th>0.0</th>\n",
              "      <td>3622</td>\n",
              "    </tr>\n",
              "    <tr>\n",
              "      <th>1.0</th>\n",
              "      <td>3622</td>\n",
              "    </tr>\n",
              "  </tbody>\n",
              "</table>\n",
              "</div><br><label><b>dtype:</b> int64</label>"
            ]
          },
          "metadata": {}
        }
      ]
    },
    {
      "cell_type": "markdown",
      "metadata": {
        "id": "71b7245c"
      },
      "source": [
        "## Dividir los datos\n",
        "\n",
        "Separar el conjunto de datos balanceado en conjuntos de entrenamiento y prueba.\n"
      ]
    },
    {
      "cell_type": "markdown",
      "metadata": {
        "id": "860c5b3b"
      },
      "source": [
        "## Escalar los datos\n",
        "\n",
        "Normalizar o estandarizar las características para que los modelos basados en distancia funcionen correctamente.\n"
      ]
    },
    {
      "cell_type": "code",
      "metadata": {
        "colab": {
          "base_uri": "https://localhost:8080/",
          "height": 1000
        },
        "id": "fcdc23fe",
        "outputId": "13315a4c-16b2-4d41-9e94-dced74453304"
      },
      "source": [
        "from sklearn.preprocessing import StandardScaler\n",
        "\n",
        "scaler = StandardScaler()\n",
        "X_train_res_scaled = scaler.fit_transform(X_train_res)\n",
        "X_test_scaled = scaler.transform(X_test)\n",
        "\n",
        "display(\"Datos de entrenamiento balanceados y escalados:\")\n",
        "display(X_train_res_scaled[:5])\n",
        "display(\"Datos de prueba escalados:\")\n",
        "display(X_test_scaled[:5])"
      ],
      "execution_count": 24,
      "outputs": [
        {
          "output_type": "display_data",
          "data": {
            "text/plain": [
              "'Datos de entrenamiento balanceados y escalados:'"
            ],
            "application/vnd.google.colaboratory.intrinsic+json": {
              "type": "string"
            }
          },
          "metadata": {}
        },
        {
          "output_type": "display_data",
          "data": {
            "text/plain": [
              "array([[-0.39716914, -0.56180649,  0.29015302, -0.4214332 , -1.        ,\n",
              "         0.32409588,  0.86686255, -0.99751826, -0.66538747,  0.27924217,\n",
              "        -0.32809337, -0.97141876,  0.91650405, -0.4544546 , -0.4544546 ,\n",
              "        -0.62247383, -0.4544546 , -0.75746699, -0.4544546 ,  1.28739017,\n",
              "        -0.4544546 , -0.63380027, -0.4544546 , -0.89154158, -0.4544546 ,\n",
              "        -0.90030404, -0.48576389, -0.46371167, -1.53722005, -0.52709276,\n",
              "         1.04086754, -0.55545118],\n",
              "       [-0.39716914, -0.93771256,  0.06492631, -0.77465441,  1.        ,\n",
              "         0.32409588,  0.86686255, -0.99751826, -0.66538747,  0.27924217,\n",
              "        -0.32809337, -0.97141876, -1.09110265, -0.4544546 , -0.4544546 ,\n",
              "        -0.62247383, -0.4544546 , -0.75746699, -0.4544546 ,  1.28739017,\n",
              "        -0.4544546 , -0.63380027, -0.4544546 ,  1.12165268, -0.4544546 ,\n",
              "         1.11073588,  2.05861328, -0.46371167,  0.65052495, -0.52709276,\n",
              "        -0.96073704,  1.80033825],\n",
              "       [-0.39716914,  0.31530768,  0.24650443,  0.24756131,  1.        ,\n",
              "         0.69098923,  0.86686255,  1.00248791, -0.66538747,  0.27924217,\n",
              "        -0.32809337,  1.02942216,  0.91650405, -0.4544546 , -0.4544546 ,\n",
              "        -0.62247383, -0.4544546 , -0.75746699, -0.4544546 , -0.77676529,\n",
              "        -0.4544546 , -0.63380027, -0.4544546 , -0.89154158, -0.4544546 ,\n",
              "        -0.90030404, -0.48576389, -0.46371167,  0.65052495, -0.52709276,\n",
              "         1.04086754, -0.55545118],\n",
              "       [-0.39716914,  1.27595653,  0.6271201 ,  1.3089907 , -1.        ,\n",
              "         0.69098923,  0.86686255,  1.00248791, -0.66538747,  0.27924217,\n",
              "        -0.32809337,  1.02942216, -1.09110265, -0.4544546 , -0.4544546 ,\n",
              "         1.60649325, -0.4544546 ,  1.32018954, -0.4544546 ,  1.28739017,\n",
              "        -0.4544546 , -0.63380027, -0.4544546 ,  1.12165268, -0.4544546 ,\n",
              "         1.11073588, -0.48576389,  2.15651247,  0.65052495, -0.52709276,\n",
              "         1.04086754, -0.55545118],\n",
              "       [-0.39716914, -1.06301459, -0.64741861, -0.88137982,  1.        ,\n",
              "         0.32409588, -1.15358542, -0.99751826, -0.66538747,  0.27924217,\n",
              "        -0.32809337, -0.97141876, -1.09110265, -0.4544546 , -0.4544546 ,\n",
              "        -0.62247383, -0.4544546 ,  1.32018954, -0.4544546 , -0.77676529,\n",
              "        -0.4544546 , -0.63380027, -0.4544546 , -0.89154158, -0.4544546 ,\n",
              "        -0.90030404, -0.48576389, -0.46371167,  0.65052495, -0.52709276,\n",
              "        -0.96073704,  1.80033825]])"
            ]
          },
          "metadata": {}
        },
        {
          "output_type": "display_data",
          "data": {
            "text/plain": [
              "'Datos de prueba escalados:'"
            ],
            "application/vnd.google.colaboratory.intrinsic+json": {
              "type": "string"
            }
          },
          "metadata": {}
        },
        {
          "output_type": "display_data",
          "data": {
            "text/plain": [
              "array([[ 2.51781897,  1.69362994,  0.74933614,  1.87637363,  1.        ,\n",
              "         0.69098923, -1.15358542,  1.00248791, -0.66538747,  0.27924217,\n",
              "        -0.32809337,  1.02942216,  0.91650405, -0.4544546 , -0.4544546 ,\n",
              "        -0.62247383, -0.4544546 ,  1.32018954, -0.4544546 , -0.77676529,\n",
              "        -0.4544546 , -0.63380027, -0.4544546 , -0.89154158, -0.4544546 ,\n",
              "         1.11073588, -0.48576389, -0.46371167,  0.65052495, -0.52709276,\n",
              "        -0.96073704, -0.55545118],\n",
              "       [-0.39716914,  0.56591173, -0.27378671,  0.2177956 , -1.        ,\n",
              "         0.32409588,  0.86686255,  1.00248791,  1.50288372,  0.27924217,\n",
              "        -0.32809337, -0.97141876, -1.09110265, -0.4544546 , -0.4544546 ,\n",
              "         1.60649325, -0.4544546 ,  1.32018954, -0.4544546 ,  1.28739017,\n",
              "        -0.4544546 , -0.63380027, -0.4544546 , -0.89154158, -0.4544546 ,\n",
              "        -0.90030404,  2.05861328, -0.46371167,  0.65052495, -0.52709276,\n",
              "        -0.96073704, -0.55545118],\n",
              "       [-0.39716914, -0.85417788,  0.42459066, -0.69242035,  1.        ,\n",
              "         0.32409588, -1.15358542, -0.99751826, -0.66538747,  0.27924217,\n",
              "        -0.32809337, -0.97141876,  0.91650405, -0.4544546 , -0.4544546 ,\n",
              "        -0.62247383, -0.4544546 , -0.75746699, -0.4544546 , -0.77676529,\n",
              "        -0.4544546 , -0.63380027, -0.4544546 ,  1.12165268, -0.4544546 ,\n",
              "        -0.90030404, -0.48576389, -0.46371167,  0.65052495, -0.52709276,\n",
              "        -0.96073704,  1.80033825],\n",
              "       [-0.39716914,  1.77716463, -1.70895221, -0.29124838, -1.        ,\n",
              "        -2.24415757, -1.15358542,  1.00248791,  1.50288372,  0.27924217,\n",
              "        -0.32809337, -0.97141876, -1.09110265,  2.20043984,  2.20043984,\n",
              "        -0.62247383,  2.20043984, -0.75746699,  2.20043984, -0.77676529,\n",
              "         2.20043984, -0.63380027,  2.20043984, -0.89154158,  2.20043984,\n",
              "        -0.90030404, -0.48576389,  2.15651247,  0.65052495, -0.52709276,\n",
              "        -0.96073704,  1.80033825],\n",
              "       [-0.39716914, -0.60357383, -1.36150947, -0.77018267, -1.        ,\n",
              "        -0.04279747, -1.15358542, -0.99751826, -0.66538747, -3.58112098,\n",
              "         3.04791285, -0.97141876, -1.09110265, -0.4544546 , -0.4544546 ,\n",
              "        -0.62247383, -0.4544546 ,  1.32018954, -0.4544546 , -0.77676529,\n",
              "        -0.4544546 , -0.63380027, -0.4544546 , -0.89154158, -0.4544546 ,\n",
              "        -0.90030404, -0.48576389, -0.46371167, -1.53722005, -0.52709276,\n",
              "         1.04086754, -0.55545118]])"
            ]
          },
          "metadata": {}
        }
      ]
    },
    {
      "cell_type": "markdown",
      "metadata": {
        "id": "39c620e7"
      },
      "source": [
        "## Entrenar modelo\n",
        "\n",
        "Entrenar un modelo de machine learning utilizando los datos de entrenamiento balanceados y escalados.\n"
      ]
    },
    {
      "cell_type": "code",
      "metadata": {
        "colab": {
          "base_uri": "https://localhost:8080/",
          "height": 35
        },
        "id": "a587e679",
        "outputId": "bbb7eee9-5dc8-47cf-eccf-9ec5fc36c9f1"
      },
      "source": [
        "from sklearn.linear_model import LogisticRegression\n",
        "\n",
        "modelo_logistico = LogisticRegression(random_state=42, max_iter=5000)\n",
        "modelo_logistico.fit(X_train_res_scaled, y_train_res)\n",
        "\n",
        "display(\"Modelo de Regresión Logística entrenado con datos balanceados y escalados.\")"
      ],
      "execution_count": 25,
      "outputs": [
        {
          "output_type": "display_data",
          "data": {
            "text/plain": [
              "'Modelo de Regresión Logística entrenado con datos balanceados y escalados.'"
            ],
            "application/vnd.google.colaboratory.intrinsic+json": {
              "type": "string"
            }
          },
          "metadata": {}
        }
      ]
    },
    {
      "cell_type": "markdown",
      "metadata": {
        "id": "65ae3c84"
      },
      "source": [
        "## Evaluar modelo\n",
        "\n",
        "Evaluar el rendimiento del modelo en el conjunto de prueba.\n"
      ]
    },
    {
      "cell_type": "code",
      "metadata": {
        "colab": {
          "base_uri": "https://localhost:8080/",
          "height": 144
        },
        "id": "ea5b1394",
        "outputId": "2e694ff5-0aa8-4d18-d37f-affb521a9252"
      },
      "source": [
        "y_pred = modelo_logistico.predict(X_test_scaled)\n",
        "\n",
        "conf_matrix = confusion_matrix(y_test, y_pred)\n",
        "display(\"Matriz de Confusión:\")\n",
        "display(conf_matrix)\n",
        "\n",
        "accuracy = accuracy_score(y_test, y_pred)\n",
        "precision = precision_score(y_test, y_pred)\n",
        "recall = recall_score(y_test, y_pred)\n",
        "f1 = f1_score(y_test, y_pred)\n",
        "\n",
        "display(f\"Accuracy: {accuracy:.4f}\")\n",
        "display(f\"Precision: {precision:.4f}\")\n",
        "display(f\"Recall: {recall:.4f}\")\n",
        "display(f\"F1-score: {f1:.4f}\")"
      ],
      "execution_count": 26,
      "outputs": [
        {
          "output_type": "display_data",
          "data": {
            "text/plain": [
              "'Matriz de Confusión:'"
            ],
            "application/vnd.google.colaboratory.intrinsic+json": {
              "type": "string"
            }
          },
          "metadata": {}
        },
        {
          "output_type": "display_data",
          "data": {
            "text/plain": [
              "array([[1552,    0],\n",
              "       [   0,  561]])"
            ]
          },
          "metadata": {}
        },
        {
          "output_type": "display_data",
          "data": {
            "text/plain": [
              "'Accuracy: 1.0000'"
            ],
            "application/vnd.google.colaboratory.intrinsic+json": {
              "type": "string"
            }
          },
          "metadata": {}
        },
        {
          "output_type": "display_data",
          "data": {
            "text/plain": [
              "'Precision: 1.0000'"
            ],
            "application/vnd.google.colaboratory.intrinsic+json": {
              "type": "string"
            }
          },
          "metadata": {}
        },
        {
          "output_type": "display_data",
          "data": {
            "text/plain": [
              "'Recall: 1.0000'"
            ],
            "application/vnd.google.colaboratory.intrinsic+json": {
              "type": "string"
            }
          },
          "metadata": {}
        },
        {
          "output_type": "display_data",
          "data": {
            "text/plain": [
              "'F1-score: 1.0000'"
            ],
            "application/vnd.google.colaboratory.intrinsic+json": {
              "type": "string"
            }
          },
          "metadata": {}
        }
      ]
    },
    {
      "cell_type": "markdown",
      "metadata": {
        "id": "7fd010f0"
      },
      "source": [
        "## Resumen:\n",
        "\n",
        "### Hallazgos clave del analisis de datos\n",
        "\n",
        "*   El conjunto de entrenamiento fue balanceado con SMOTE, logrando una distribución equitativa de clases (0 y 1) en el set balanceado ('y_train_res').\n",
        "\n",
        "*   Las características del entrenamiento balanceado ('X_train_res') y del conjunto de prueba original ('X_test') se escalaron correctamente usando StandardScaler.\n",
        "\n",
        "*   Se entrenó un modelo de Regresión Logística con los datos de entrenamiento balanceados y escalados.\n",
        "\n",
        "*   La evaluación del modelo de Regresión Logística en el conjunto de prueba mostró desempeño perfecto: Exactitud (Accuracy), Precisión (Precision), Recall (Sensibilidad/Exhaustividad) y F1 iguales a 1.0000.\n",
        "La matriz de confusión indicó cero errores de clasificación en el set de prueba.\n",
        "\n",
        "###Ideas o próximos pasos\n",
        "\n",
        "*   Un rendimiento perfecto en el conjunto de prueba es altamente inusual y podría indicar fuga de datos (data leakage) o sobreajuste (overfitting), aun habiendo aplicado prácticas estándar (separación de datos y escalado).\n",
        "Se recomienda una revisión más profunda del dataset y del preprocesamiento para validar estos resultados.\n",
        "\n",
        "*   Realizar una evaluación adicional con validación cruzada sobre el entrenamiento balanceado y evaluar el modelo en un conjunto completamente no visto (hold-out externo) brindará una medición más robusta de la capacidad de generalización del modelo.\n"
      ]
    },
    {
      "cell_type": "code",
      "metadata": {
        "colab": {
          "base_uri": "https://localhost:8080/",
          "height": 847
        },
        "id": "bff7ddf8",
        "outputId": "210a94b2-586a-4622-deee-9f18cdfdc238"
      },
      "source": [
        "import matplotlib.pyplot as plt\n",
        "import seaborn as sns\n",
        "\n",
        "# Seleccionar solo las columnas numéricas\n",
        "df_numeric = df_codificado.select_dtypes(include=['float64', 'int64', 'bool'])\n",
        "\n",
        "# Calcular la matriz de correlación\n",
        "matriz_correlacion = df_numeric.corr()\n",
        "\n",
        "# Visualizar la matriz de correlación (opcionalmente enfocándose en la correlación con 'Churn_numeric')\n",
        "plt.figure(figsize=(12, 10))\n",
        "sns.heatmap(matriz_correlacion[['Churn_numeric']].sort_values(by='Churn_numeric', ascending=False), annot=True, cmap='coolwarm', fmt=\".2f\")\n",
        "plt.title('Correlación de Variables Numéricas con Churn')\n",
        "plt.show()\n",
        "\n",
        "# Mostrar la matriz de correlación completa si se desea\n",
        "# plt.figure(figsize=(15, 12))\n",
        "# sns.heatmap(matriz_correlacion, annot=True, cmap='coolwarm', fmt=\".2f\")\n",
        "# plt.title('Matriz de Correlación de Variables Numéricas')\n",
        "# plt.show()"
      ],
      "execution_count": 27,
      "outputs": [
        {
          "output_type": "display_data",
          "data": {
            "text/plain": [
              "<Figure size 1200x1000 with 2 Axes>"
            ],
            "image/png": "[encoded data removed]"
          },
          "metadata": {}
        }
      ]
    },
    {
      "cell_type": "markdown",
      "metadata": {
        "id": "597ee193"
      },
      "source": [
        "## Explorar la relación entre variables y la cancelación\n",
        "\n",
        "Visualizar la relación entre variables específicas como el tiempo de contrato y el gasto total con la cancelación utilizando gráficos adecuados (boxplots, scatter plots).\n"
      ]
    },
    {
      "cell_type": "code",
      "metadata": {
        "colab": {
          "base_uri": "https://localhost:8080/",
          "height": 1000
        },
        "id": "c3889d9f",
        "outputId": "874754cf-94d1-4f41-da59-b2c9bfa740f4"
      },
      "source": [
        "# Crear un boxplot para visualizar la relación entre 'tenure' y 'Churn_numeric'\n",
        "plt.figure(figsize=(8, 6))\n",
        "sns.boxplot(x='Churn_numeric', y='tenure', data=df_codificado)\n",
        "plt.xlabel('Churn (0: No, 1: Sí)')\n",
        "plt.ylabel('Tiempo de contrato (meses)')\n",
        "plt.title('Relación entre Tiempo de contrato y Churn')\n",
        "plt.show()\n",
        "\n",
        "# Crear un scatter plot para visualizar la relación entre 'Charges.Total' y 'Churn_numeric'\n",
        "# Para el scatter plot, puede ser más informativo si visualizamos la distribución de Charges.Total para cada clase de Churn\n",
        "plt.figure(figsize=(8, 6))\n",
        "sns.scatterplot(x='Charges.Total', y='Churn_numeric', data=df_codificado, alpha=0.5)\n",
        "plt.xlabel('Gasto Total')\n",
        "plt.ylabel('Churn (0: No, 1: Sí)')\n",
        "plt.title('Relación entre Gasto Total y Churn')\n",
        "plt.yticks([0, 1], ['No Churn', 'Churn'])\n",
        "plt.show()"
      ],
      "execution_count": 28,
      "outputs": [
        {
          "output_type": "display_data",
          "data": {
            "text/plain": [
              "<Figure size 800x600 with 1 Axes>"
            ],
            "image/png": "[encoded data removed]"
          },
          "metadata": {}
        },
        {
          "output_type": "display_data",
          "data": {
            "text/plain": [
              "<Figure size 800x600 with 1 Axes>"
            ],
            "image/png": "[encoded data removed]"
          },
          "metadata": {}
        }
      ]
    },
    {
      "cell_type": "markdown",
      "metadata": {
        "id": "1b69e91b"
      },
      "source": [
        "#Resumen:\n",
        "\n",
        "###Hallazgos clave del análisis de datos\n",
        "\n",
        "*   Los clientes que abandonaron (churn) en general tuvieron duraciones de contrato más cortas que quienes no abandonaron.\n",
        "\n",
        "*   Los clientes con cargos totales más altos fueron menos propensos a abandonar, mientras que los clientes que sí abandonaron se concentraron en el extremo inferior de Charges.Total.\n",
        "\n",
        "###Ideas o próximos pasos\n",
        "\n",
        "*   Las visualizaciones sugieren que 'tenure' y 'Charges.Total' son características importantes para predecir el churn, por lo que deberían incluirse en el modelado posterior.\n",
        "\n",
        "*   Realizar pruebas estadísticas adicionales para confirmar la significancia de las relaciones observadas entre 'tenure', 'Charges.Total' y el abandono (churn).\n"
      ]
    },
    {
      "cell_type": "markdown",
      "metadata": {
        "id": "ead9891e"
      },
      "source": [
        "## Entrenar modelo que requiere normalización\n",
        "\n",
        "Entrenar un modelo de machine learning que requiere normalización (como Regresión Logística o KNN) utilizando los datos de entrenamiento balanceados y escalados.\n"
      ]
    },
    {
      "cell_type": "code",
      "metadata": {
        "colab": {
          "base_uri": "https://localhost:8080/",
          "height": 35
        },
        "id": "354484d0",
        "outputId": "dbab399d-0ea7-41c0-e1cb-6801fe36d167"
      },
      "source": [
        "from sklearn.linear_model import LogisticRegression\n",
        "\n",
        "modelo_logistico = LogisticRegression(random_state=42, max_iter=5000)\n",
        "modelo_logistico.fit(X_train_res_scaled, y_train_res)\n",
        "\n",
        "display(\"Modelo de Regresión Logística entrenado con datos balanceados y escalados.\")"
      ],
      "execution_count": 29,
      "outputs": [
        {
          "output_type": "display_data",
          "data": {
            "text/plain": [
              "'Modelo de Regresión Logística entrenado con datos balanceados y escalados.'"
            ],
            "application/vnd.google.colaboratory.intrinsic+json": {
              "type": "string"
            }
          },
          "metadata": {}
        }
      ]
    },
    {
      "cell_type": "markdown",
      "metadata": {
        "id": "2d0f907c"
      },
      "source": [
        "## Entrenar modelo que no requiere normalización\n",
        "\n",
        "Entrenar un modelo de machine learning que no requiere normalización (como Árbol de Decisión o Random Forest) utilizando los datos de entrenamiento balanceados (sin escalar).\n"
      ]
    },
    {
      "cell_type": "code",
      "metadata": {
        "colab": {
          "base_uri": "https://localhost:8080/",
          "height": 35
        },
        "id": "ef92df18",
        "outputId": "e6f5f57e-0bc6-4a4b-f684-36e34d06e67b"
      },
      "source": [
        "from sklearn.ensemble import RandomForestClassifier\n",
        "\n",
        "modelo_rf = RandomForestClassifier(random_state=42)\n",
        "modelo_rf.fit(X_train_res, y_train_res)\n",
        "\n",
        "display(\"Modelo de Random Forest entrenado con datos balanceados (sin escalar).\")"
      ],
      "execution_count": 30,
      "outputs": [
        {
          "output_type": "display_data",
          "data": {
            "text/plain": [
              "'Modelo de Random Forest entrenado con datos balanceados (sin escalar).'"
            ],
            "application/vnd.google.colaboratory.intrinsic+json": {
              "type": "string"
            }
          },
          "metadata": {}
        }
      ]
    },
    {
      "cell_type": "markdown",
      "metadata": {
        "id": "fce39d4e"
      },
      "source": [
        "## Evaluar modelos\n",
        "\n",
        "Evaluar el rendimiento de ambos modelos en el conjunto de prueba (escalado para el primer modelo).\n"
      ]
    },
    {
      "cell_type": "code",
      "metadata": {
        "id": "75a319aa"
      },
      "source": [
        "from sklearn.metrics import accuracy_score, precision_score, recall_score, f1_score, confusion_matrix"
      ],
      "execution_count": 31,
      "outputs": []
    },
    {
      "cell_type": "code",
      "metadata": {
        "colab": {
          "base_uri": "https://localhost:8080/",
          "height": 144
        },
        "id": "1b8285d0",
        "outputId": "8330768c-931c-48e4-86ac-fd692ff16215"
      },
      "source": [
        "y_pred_logistico = modelo_logistico.predict(X_test_scaled)\n",
        "\n",
        "conf_matrix_logistico = confusion_matrix(y_test, y_pred_logistico)\n",
        "display(\"Matriz de Confusión (Regresión Logística):\")\n",
        "display(conf_matrix_logistico)\n",
        "\n",
        "accuracy_logistico = accuracy_score(y_test, y_pred_logistico)\n",
        "precision_logistico = precision_score(y_test, y_pred_logistico)\n",
        "recall_logistico = recall_score(y_test, y_pred_logistico)\n",
        "f1_logistico = f1_score(y_test, y_pred_logistico)\n",
        "\n",
        "display(f\"Accuracy (Regresión Logística): {accuracy_logistico:.4f}\")\n",
        "display(f\"Precision (Regresión Logística): {precision_logistico:.4f}\")\n",
        "display(f\"Recall (Regresión Logística): {recall_logistico:.4f}\")\n",
        "display(f\"F1-score (Regresión Logística): {f1_logistico:.4f}\")"
      ],
      "execution_count": 32,
      "outputs": [
        {
          "output_type": "display_data",
          "data": {
            "text/plain": [
              "'Matriz de Confusión (Regresión Logística):'"
            ],
            "application/vnd.google.colaboratory.intrinsic+json": {
              "type": "string"
            }
          },
          "metadata": {}
        },
        {
          "output_type": "display_data",
          "data": {
            "text/plain": [
              "array([[1552,    0],\n",
              "       [   0,  561]])"
            ]
          },
          "metadata": {}
        },
        {
          "output_type": "display_data",
          "data": {
            "text/plain": [
              "'Accuracy (Regresión Logística): 1.0000'"
            ],
            "application/vnd.google.colaboratory.intrinsic+json": {
              "type": "string"
            }
          },
          "metadata": {}
        },
        {
          "output_type": "display_data",
          "data": {
            "text/plain": [
              "'Precision (Regresión Logística): 1.0000'"
            ],
            "application/vnd.google.colaboratory.intrinsic+json": {
              "type": "string"
            }
          },
          "metadata": {}
        },
        {
          "output_type": "display_data",
          "data": {
            "text/plain": [
              "'Recall (Regresión Logística): 1.0000'"
            ],
            "application/vnd.google.colaboratory.intrinsic+json": {
              "type": "string"
            }
          },
          "metadata": {}
        },
        {
          "output_type": "display_data",
          "data": {
            "text/plain": [
              "'F1-score (Regresión Logística): 1.0000'"
            ],
            "application/vnd.google.colaboratory.intrinsic+json": {
              "type": "string"
            }
          },
          "metadata": {}
        }
      ]
    },
    {
      "cell_type": "code",
      "metadata": {
        "colab": {
          "base_uri": "https://localhost:8080/",
          "height": 144
        },
        "id": "2a9ea5b0",
        "outputId": "48e21fbf-ef5d-419a-8cb6-4fd3588bf28b"
      },
      "source": [
        "y_pred_rf = modelo_rf.predict(X_test)\n",
        "\n",
        "conf_matrix_rf = confusion_matrix(y_test, y_pred_rf)\n",
        "display(\"Matriz de Confusión (Random Forest):\")\n",
        "display(conf_matrix_rf)\n",
        "\n",
        "accuracy_rf = accuracy_score(y_test, y_pred_rf)\n",
        "precision_rf = precision_score(y_test, y_pred_rf)\n",
        "recall_rf = recall_score(y_test, y_pred_rf)\n",
        "f1_rf = f1_score(y_test, y_pred_rf)\n",
        "\n",
        "display(f\"Accuracy (Random Forest): {accuracy_rf:.4f}\")\n",
        "display(f\"Precision (Random Forest): {precision_rf:.4f}\")\n",
        "display(f\"Recall (Random Forest): {recall_rf:.4f}\")\n",
        "display(f\"F1-score (Random Forest): {f1_rf:.4f}\")"
      ],
      "execution_count": 33,
      "outputs": [
        {
          "output_type": "display_data",
          "data": {
            "text/plain": [
              "'Matriz de Confusión (Random Forest):'"
            ],
            "application/vnd.google.colaboratory.intrinsic+json": {
              "type": "string"
            }
          },
          "metadata": {}
        },
        {
          "output_type": "display_data",
          "data": {
            "text/plain": [
              "array([[1552,    0],\n",
              "       [   0,  561]])"
            ]
          },
          "metadata": {}
        },
        {
          "output_type": "display_data",
          "data": {
            "text/plain": [
              "'Accuracy (Random Forest): 1.0000'"
            ],
            "application/vnd.google.colaboratory.intrinsic+json": {
              "type": "string"
            }
          },
          "metadata": {}
        },
        {
          "output_type": "display_data",
          "data": {
            "text/plain": [
              "'Precision (Random Forest): 1.0000'"
            ],
            "application/vnd.google.colaboratory.intrinsic+json": {
              "type": "string"
            }
          },
          "metadata": {}
        },
        {
          "output_type": "display_data",
          "data": {
            "text/plain": [
              "'Recall (Random Forest): 1.0000'"
            ],
            "application/vnd.google.colaboratory.intrinsic+json": {
              "type": "string"
            }
          },
          "metadata": {}
        },
        {
          "output_type": "display_data",
          "data": {
            "text/plain": [
              "'F1-score (Random Forest): 1.0000'"
            ],
            "application/vnd.google.colaboratory.intrinsic+json": {
              "type": "string"
            }
          },
          "metadata": {}
        }
      ]
    },
    {
      "cell_type": "markdown",
      "metadata": {
        "id": "a2dd7ad7"
      },
      "source": [
        "## Resumen:\n",
        "\n",
        "### Hallazgos clave del análisis de datos\n",
        "\n",
        "*   Se entrenó un modelo de Regresión Logística utilizando datos de entrenamiento balanceados y escalados.\n",
        "*   Se entrenó un modelo de Random Forest utilizando datos de entrenamiento balanceados (sin escalar).\n",
        "*   Ambos modelos, Regresión Logística y Random Forest, mostraron un rendimiento perfecto en el conjunto de prueba, obteniendo un 100% en Accuracy, Precision, Recall y F1-score.\n",
        "*   Las matrices de confusión para ambos modelos en el conjunto de prueba mostraron 1552 verdaderos negativos y 561 verdaderos positivos, con cero falsos positivos y cero falsos negativos.\n",
        "\n",
        "### Ideas o próximos pasos\n",
        "\n",
        "*   El rendimiento perfecto en el conjunto de prueba sugiere que los modelos podrían estar sobreajustados o que el conjunto de prueba es demasiado simple para la complejidad del problema. Sería crucial validar estos modelos con un conjunto de datos diferente o mediante validación cruzada para confirmar su generalización.\n",
        "*   Dado el rendimiento idéntico y perfecto, se podría considerar la simplicidad y velocidad de inferencia al elegir entre los dos modelos para una implementación en producción, aunque la validación adicional es prioritaria.\n"
      ]
    },
    {
      "cell_type": "markdown",
      "metadata": {
        "id": "f705035a"
      },
      "source": [
        "## Analizar la importancia de las variables\n",
        "\n",
        "Investigar las variables más relevantes para la predicción de la cancelación basándose en los modelos entrenados (por ejemplo, coeficientes para Regresión Logística, importancia de la característica para Random Forest).\n"
      ]
    },
    {
      "cell_type": "code",
      "metadata": {
        "colab": {
          "base_uri": "https://localhost:8080/",
          "height": 746
        },
        "id": "0edfa245",
        "outputId": "14079d21-f746-43d9-dfca-9bb3794b75ec"
      },
      "source": [
        "import pandas as pd\n",
        "\n",
        "# Importancia de variables para Regresión Logística\n",
        "coeficientes_logistico = modelo_logistico.coef_[0]\n",
        "importancia_logistico = pd.DataFrame({'Característica': X.columns, 'Coeficiente': coeficientes_logistico})\n",
        "importancia_logistico['Abs_Coeficiente'] = abs(importancia_logistico['Coeficiente'])\n",
        "importancia_logistico = importancia_logistico.sort_values(by='Abs_Coeficiente', ascending=False)\n",
        "\n",
        "display(\"Top 10 Características más importantes (Regresión Logística):\")\n",
        "display(importancia_logistico.head(10))\n",
        "\n",
        "# Importancia de variables para Random Forest\n",
        "importancia_rf = modelo_rf.feature_importances_\n",
        "importancia_rf_df = pd.DataFrame({'Característica': X.columns, 'Importancia': importancia_rf})\n",
        "importancia_rf_df = importancia_rf_df.sort_values(by='Importancia', ascending=False)\n",
        "\n",
        "display(\"Top 10 Características más importantes (Random Forest):\")\n",
        "display(importancia_rf_df.head(10))"
      ],
      "execution_count": 34,
      "outputs": [
        {
          "output_type": "display_data",
          "data": {
            "text/plain": [
              "'Top 10 Características más importantes (Regresión Logística):'"
            ],
            "application/vnd.google.colaboratory.intrinsic+json": {
              "type": "string"
            }
          },
          "metadata": {}
        },
        {
          "output_type": "display_data",
          "data": {
            "text/plain": [
              "                    Característica  Coeficiente  Abs_Coeficiente\n",
              "4                    Churn_numeric     6.615185         6.615185\n",
              "1                           tenure    -0.421595         0.421595\n",
              "30  PaymentMethod_Electronic check     0.353288         0.353288\n",
              "12     InternetService_Fiber optic     0.320265         0.320265\n",
              "10  MultipleLines_No phone service     0.261510         0.261510\n",
              "28            PaperlessBilling_Yes     0.208417         0.208417\n",
              "9                 PhoneService_Yes     0.202289         0.202289\n",
              "31      PaymentMethod_Mailed check     0.186086         0.186086\n",
              "27               Contract_Two year    -0.159499         0.159499\n",
              "11               MultipleLines_Yes     0.146957         0.146957"
            ],
            "text/html": [
              "\n",
              "  <div id=\"df-66267bcf-6e7a-422b-bf39-f2b9fb9287b6\" class=\"colab-df-container\">\n",
              "    <div>\n",
              "<style scoped>\n",
              "    .dataframe tbody tr th:only-of-type {\n",
              "        vertical-align: middle;\n",
              "    }\n",
              "\n",
              "    .dataframe tbody tr th {\n",
              "        vertical-align: top;\n",
              "    }\n",
              "\n",
              "    .dataframe thead th {\n",
              "        text-align: right;\n",
              "    }\n",
              "</style>\n",
              "<table border=\"1\" class=\"dataframe\">\n",
              "  <thead>\n",
              "    <tr style=\"text-align: right;\">\n",
              "      <th></th>\n",
              "      <th>Característica</th>\n",
              "      <th>Coeficiente</th>\n",
              "      <th>Abs_Coeficiente</th>\n",
              "    </tr>\n",
              "  </thead>\n",
              "  <tbody>\n",
              "    <tr>\n",
              "      <th>4</th>\n",
              "      <td>Churn_numeric</td>\n",
              "      <td>6.615185</td>\n",
              "      <td>6.615185</td>\n",
              "    </tr>\n",
              "    <tr>\n",
              "      <th>1</th>\n",
              "      <td>tenure</td>\n",
              "      <td>-0.421595</td>\n",
              "      <td>0.421595</td>\n",
              "    </tr>\n",
              "    <tr>\n",
              "      <th>30</th>\n",
              "      <td>PaymentMethod_Electronic check</td>\n",
              "      <td>0.353288</td>\n",
              "      <td>0.353288</td>\n",
              "    </tr>\n",
              "    <tr>\n",
              "      <th>12</th>\n",
              "      <td>InternetService_Fiber optic</td>\n",
              "      <td>0.320265</td>\n",
              "      <td>0.320265</td>\n",
              "    </tr>\n",
              "    <tr>\n",
              "      <th>10</th>\n",
              "      <td>MultipleLines_No phone service</td>\n",
              "      <td>0.261510</td>\n",
              "      <td>0.261510</td>\n",
              "    </tr>\n",
              "    <tr>\n",
              "      <th>28</th>\n",
              "      <td>PaperlessBilling_Yes</td>\n",
              "      <td>0.208417</td>\n",
              "      <td>0.208417</td>\n",
              "    </tr>\n",
              "    <tr>\n",
              "      <th>9</th>\n",
              "      <td>PhoneService_Yes</td>\n",
              "      <td>0.202289</td>\n",
              "      <td>0.202289</td>\n",
              "    </tr>\n",
              "    <tr>\n",
              "      <th>31</th>\n",
              "      <td>PaymentMethod_Mailed check</td>\n",
              "      <td>0.186086</td>\n",
              "      <td>0.186086</td>\n",
              "    </tr>\n",
              "    <tr>\n",
              "      <th>27</th>\n",
              "      <td>Contract_Two year</td>\n",
              "      <td>-0.159499</td>\n",
              "      <td>0.159499</td>\n",
              "    </tr>\n",
              "    <tr>\n",
              "      <th>11</th>\n",
              "      <td>MultipleLines_Yes</td>\n",
              "      <td>0.146957</td>\n",
              "      <td>0.146957</td>\n",
              "    </tr>\n",
              "  </tbody>\n",
              "</table>\n",
              "</div>\n",
              "    <div class=\"colab-df-buttons\">\n",
              "\n",
              "  <div class=\"colab-df-container\">\n",
              "    <button class=\"colab-df-convert\" onclick=\"convertToInteractive('df-66267bcf-6e7a-422b-bf39-f2b9fb9287b6')\"\n",
              "            title=\"Convert this dataframe to an interactive table.\"\n",
              "            style=\"display:none;\">\n",
              "\n",
              "  <svg xmlns=\"http://www.w3.org/2000/svg\" height=\"24px\" viewBox=\"0 -960 960 960\">\n",
              "    <path d=\"M120-120v-720h720v720H120Zm60-500h600v-160H180v160Zm220 220h160v-160H400v160Zm0 220h160v-160H400v160ZM180-400h160v-160H180v160Zm440 0h160v-160H620v160ZM180-180h160v-160H180v160Zm440 0h160v-160H620v160Z\"/>\n",
              "  </svg>\n",
              "    </button>\n",
              "\n",
              "  <style>\n",
              "    .colab-df-container {\n",
              "      display:flex;\n",
              "      gap: 12px;\n",
              "    }\n",
              "\n",
              "    .colab-df-convert {\n",
              "      background-color: #E8F0FE;\n",
              "      border: none;\n",
              "      border-radius: 50%;\n",
              "      cursor: pointer;\n",
              "      display: none;\n",
              "      fill: #1967D2;\n",
              "      height: 32px;\n",
              "      padding: 0 0 0 0;\n",
              "      width: 32px;\n",
              "    }\n",
              "\n",
              "    .colab-df-convert:hover {\n",
              "      background-color: #E2EBFA;\n",
              "      box-shadow: 0px 1px 2px rgba(60, 64, 67, 0.3), 0px 1px 3px 1px rgba(60, 64, 67, 0.15);\n",
              "      fill: #174EA6;\n",
              "    }\n",
              "\n",
              "    .colab-df-buttons div {\n",
              "      margin-bottom: 4px;\n",
              "    }\n",
              "\n",
              "    [theme=dark] .colab-df-convert {\n",
              "      background-color: #3B4455;\n",
              "      fill: #D2E3FC;\n",
              "    }\n",
              "\n",
              "    [theme=dark] .colab-df-convert:hover {\n",
              "      background-color: #434B5C;\n",
              "      box-shadow: 0px 1px 3px 1px rgba(0, 0, 0, 0.15);\n",
              "      filter: drop-shadow(0px 1px 2px rgba(0, 0, 0, 0.3));\n",
              "      fill: #FFFFFF;\n",
              "    }\n",
              "  </style>\n",
              "\n",
              "    <script>\n",
              "      const buttonEl =\n",
              "        document.querySelector('#df-66267bcf-6e7a-422b-bf39-f2b9fb9287b6 button.colab-df-convert');\n",
              "      buttonEl.style.display =\n",
              "        google.colab.kernel.accessAllowed ? 'block' : 'none';\n",
              "\n",
              "      async function convertToInteractive(key) {\n",
              "        const element = document.querySelector('#df-66267bcf-6e7a-422b-bf39-f2b9fb9287b6');\n",
              "        const dataTable =\n",
              "          await google.colab.kernel.invokeFunction('convertToInteractive',\n",
              "                                                    [key], {});\n",
              "        if (!dataTable) return;\n",
              "\n",
              "        const docLinkHtml = 'Like what you see? Visit the ' +\n",
              "          '<a target=\"_blank\" href=https://colab.research.google.com/notebooks/data_table.ipynb>data table notebook</a>'\n",
              "          + ' to learn more about interactive tables.';\n",
              "        element.innerHTML = '';\n",
              "        dataTable['output_type'] = 'display_data';\n",
              "        await google.colab.output.renderOutput(dataTable, element);\n",
              "        const docLink = document.createElement('div');\n",
              "        docLink.innerHTML = docLinkHtml;\n",
              "        element.appendChild(docLink);\n",
              "      }\n",
              "    </script>\n",
              "  </div>\n",
              "\n",
              "\n",
              "    <div id=\"df-6df40026-169c-45d5-a48d-c7a97228a565\">\n",
              "      <button class=\"colab-df-quickchart\" onclick=\"quickchart('df-6df40026-169c-45d5-a48d-c7a97228a565')\"\n",
              "                title=\"Suggest charts\"\n",
              "                style=\"display:none;\">\n",
              "\n",
              "<svg xmlns=\"http://www.w3.org/2000/svg\" height=\"24px\"viewBox=\"0 0 24 24\"\n",
              "     width=\"24px\">\n",
              "    <g>\n",
              "        <path d=\"M19 3H5c-1.1 0-2 .9-2 2v14c0 1.1.9 2 2 2h14c1.1 0 2-.9 2-2V5c0-1.1-.9-2-2-2zM9 17H7v-7h2v7zm4 0h-2V7h2v10zm4 0h-2v-4h2v4z\"/>\n",
              "    </g>\n",
              "</svg>\n",
              "      </button>\n",
              "\n",
              "<style>\n",
              "  .colab-df-quickchart {\n",
              "      --bg-color: #E8F0FE;\n",
              "      --fill-color: #1967D2;\n",
              "      --hover-bg-color: #E2EBFA;\n",
              "      --hover-fill-color: #174EA6;\n",
              "      --disabled-fill-color: #AAA;\n",
              "      --disabled-bg-color: #DDD;\n",
              "  }\n",
              "\n",
              "  [theme=dark] .colab-df-quickchart {\n",
              "      --bg-color: #3B4455;\n",
              "      --fill-color: #D2E3FC;\n",
              "      --hover-bg-color: #434B5C;\n",
              "      --hover-fill-color: #FFFFFF;\n",
              "      --disabled-bg-color: #3B4455;\n",
              "      --disabled-fill-color: #666;\n",
              "  }\n",
              "\n",
              "  .colab-df-quickchart {\n",
              "    background-color: var(--bg-color);\n",
              "    border: none;\n",
              "    border-radius: 50%;\n",
              "    cursor: pointer;\n",
              "    display: none;\n",
              "    fill: var(--fill-color);\n",
              "    height: 32px;\n",
              "    padding: 0;\n",
              "    width: 32px;\n",
              "  }\n",
              "\n",
              "  .colab-df-quickchart:hover {\n",
              "    background-color: var(--hover-bg-color);\n",
              "    box-shadow: 0 1px 2px rgba(60, 64, 67, 0.3), 0 1px 3px 1px rgba(60, 64, 67, 0.15);\n",
              "    fill: var(--button-hover-fill-color);\n",
              "  }\n",
              "\n",
              "  .colab-df-quickchart-complete:disabled,\n",
              "  .colab-df-quickchart-complete:disabled:hover {\n",
              "    background-color: var(--disabled-bg-color);\n",
              "    fill: var(--disabled-fill-color);\n",
              "    box-shadow: none;\n",
              "  }\n",
              "\n",
              "  .colab-df-spinner {\n",
              "    border: 2px solid var(--fill-color);\n",
              "    border-color: transparent;\n",
              "    border-bottom-color: var(--fill-color);\n",
              "    animation:\n",
              "      spin 1s steps(1) infinite;\n",
              "  }\n",
              "\n",
              "  @keyframes spin {\n",
              "    0% {\n",
              "      border-color: transparent;\n",
              "      border-bottom-color: var(--fill-color);\n",
              "      border-left-color: var(--fill-color);\n",
              "    }\n",
              "    20% {\n",
              "      border-color: transparent;\n",
              "      border-left-color: var(--fill-color);\n",
              "      border-top-color: var(--fill-color);\n",
              "    }\n",
              "    30% {\n",
              "      border-color: transparent;\n",
              "      border-left-color: var(--fill-color);\n",
              "      border-top-color: var(--fill-color);\n",
              "      border-right-color: var(--fill-color);\n",
              "    }\n",
              "    40% {\n",
              "      border-color: transparent;\n",
              "      border-right-color: var(--fill-color);\n",
              "      border-top-color: var(--fill-color);\n",
              "    }\n",
              "    60% {\n",
              "      border-color: transparent;\n",
              "      border-right-color: var(--fill-color);\n",
              "    }\n",
              "    80% {\n",
              "      border-color: transparent;\n",
              "      border-right-color: var(--fill-color);\n",
              "      border-bottom-color: var(--fill-color);\n",
              "    }\n",
              "    90% {\n",
              "      border-color: transparent;\n",
              "      border-bottom-color: var(--fill-color);\n",
              "    }\n",
              "  }\n",
              "</style>\n",
              "\n",
              "      <script>\n",
              "        async function quickchart(key) {\n",
              "          const quickchartButtonEl =\n",
              "            document.querySelector('#' + key + ' button');\n",
              "          quickchartButtonEl.disabled = true;  // To prevent multiple clicks.\n",
              "          quickchartButtonEl.classList.add('colab-df-spinner');\n",
              "          try {\n",
              "            const charts = await google.colab.kernel.invokeFunction(\n",
              "                'suggestCharts', [key], {});\n",
              "          } catch (error) {\n",
              "            console.error('Error during call to suggestCharts:', error);\n",
              "          }\n",
              "          quickchartButtonEl.classList.remove('colab-df-spinner');\n",
              "          quickchartButtonEl.classList.add('colab-df-quickchart-complete');\n",
              "        }\n",
              "        (() => {\n",
              "          let quickchartButtonEl =\n",
              "            document.querySelector('#df-6df40026-169c-45d5-a48d-c7a97228a565 button');\n",
              "          quickchartButtonEl.style.display =\n",
              "            google.colab.kernel.accessAllowed ? 'block' : 'none';\n",
              "        })();\n",
              "      </script>\n",
              "    </div>\n",
              "\n",
              "    </div>\n",
              "  </div>\n"
            ],
            "application/vnd.google.colaboratory.intrinsic+json": {
              "type": "dataframe",
              "summary": "{\n  \"name\": \"display(importancia_rf_df\",\n  \"rows\": 10,\n  \"fields\": [\n    {\n      \"column\": \"Caracter\\u00edstica\",\n      \"properties\": {\n        \"dtype\": \"string\",\n        \"num_unique_values\": 10,\n        \"samples\": [\n          \"Contract_Two year\",\n          \"tenure\",\n          \"PaperlessBilling_Yes\"\n        ],\n        \"semantic_type\": \"\",\n        \"description\": \"\"\n      }\n    },\n    {\n      \"column\": \"Coeficiente\",\n      \"properties\": {\n        \"dtype\": \"number\",\n        \"std\": 2.0669708015103514,\n        \"min\": -0.42159487269194684,\n        \"max\": 6.615184555512313,\n        \"num_unique_values\": 10,\n        \"samples\": [\n          -0.15949893326747552,\n          -0.42159487269194684,\n          0.20841680713639282\n        ],\n        \"semantic_type\": \"\",\n        \"description\": \"\"\n      }\n    },\n    {\n      \"column\": \"Abs_Coeficiente\",\n      \"properties\": {\n        \"dtype\": \"number\",\n        \"std\": 2.0144885950062674,\n        \"min\": 0.14695749749026832,\n        \"max\": 6.615184555512313,\n        \"num_unique_values\": 10,\n        \"samples\": [\n          0.15949893326747552,\n          0.42159487269194684,\n          0.20841680713639282\n        ],\n        \"semantic_type\": \"\",\n        \"description\": \"\"\n      }\n    }\n  ]\n}"
            }
          },
          "metadata": {}
        },
        {
          "output_type": "display_data",
          "data": {
            "text/plain": [
              "'Top 10 Características más importantes (Random Forest):'"
            ],
            "application/vnd.google.colaboratory.intrinsic+json": {
              "type": "string"
            }
          },
          "metadata": {}
        },
        {
          "output_type": "display_data",
          "data": {
            "text/plain": [
              "                    Característica  Importancia\n",
              "4                    Churn_numeric     0.659895\n",
              "1                           tenure     0.059299\n",
              "30  PaymentMethod_Electronic check     0.056492\n",
              "3                    Charges.Total     0.037626\n",
              "12     InternetService_Fiber optic     0.033621\n",
              "28            PaperlessBilling_Yes     0.032604\n",
              "27               Contract_Two year     0.023701\n",
              "2                  Charges.Monthly     0.021270\n",
              "5                      NumServices     0.010923\n",
              "26               Contract_One year     0.005585"
            ],
            "text/html": [
              "\n",
              "  <div id=\"df-6a745391-73b2-4a7e-a48e-3c2e96c81f24\" class=\"colab-df-container\">\n",
              "    <div>\n",
              "<style scoped>\n",
              "    .dataframe tbody tr th:only-of-type {\n",
              "        vertical-align: middle;\n",
              "    }\n",
              "\n",
              "    .dataframe tbody tr th {\n",
              "        vertical-align: top;\n",
              "    }\n",
              "\n",
              "    .dataframe thead th {\n",
              "        text-align: right;\n",
              "    }\n",
              "</style>\n",
              "<table border=\"1\" class=\"dataframe\">\n",
              "  <thead>\n",
              "    <tr style=\"text-align: right;\">\n",
              "      <th></th>\n",
              "      <th>Característica</th>\n",
              "      <th>Importancia</th>\n",
              "    </tr>\n",
              "  </thead>\n",
              "  <tbody>\n",
              "    <tr>\n",
              "      <th>4</th>\n",
              "      <td>Churn_numeric</td>\n",
              "      <td>0.659895</td>\n",
              "    </tr>\n",
              "    <tr>\n",
              "      <th>1</th>\n",
              "      <td>tenure</td>\n",
              "      <td>0.059299</td>\n",
              "    </tr>\n",
              "    <tr>\n",
              "      <th>30</th>\n",
              "      <td>PaymentMethod_Electronic check</td>\n",
              "      <td>0.056492</td>\n",
              "    </tr>\n",
              "    <tr>\n",
              "      <th>3</th>\n",
              "      <td>Charges.Total</td>\n",
              "      <td>0.037626</td>\n",
              "    </tr>\n",
              "    <tr>\n",
              "      <th>12</th>\n",
              "      <td>InternetService_Fiber optic</td>\n",
              "      <td>0.033621</td>\n",
              "    </tr>\n",
              "    <tr>\n",
              "      <th>28</th>\n",
              "      <td>PaperlessBilling_Yes</td>\n",
              "      <td>0.032604</td>\n",
              "    </tr>\n",
              "    <tr>\n",
              "      <th>27</th>\n",
              "      <td>Contract_Two year</td>\n",
              "      <td>0.023701</td>\n",
              "    </tr>\n",
              "    <tr>\n",
              "      <th>2</th>\n",
              "      <td>Charges.Monthly</td>\n",
              "      <td>0.021270</td>\n",
              "    </tr>\n",
              "    <tr>\n",
              "      <th>5</th>\n",
              "      <td>NumServices</td>\n",
              "      <td>0.010923</td>\n",
              "    </tr>\n",
              "    <tr>\n",
              "      <th>26</th>\n",
              "      <td>Contract_One year</td>\n",
              "      <td>0.005585</td>\n",
              "    </tr>\n",
              "  </tbody>\n",
              "</table>\n",
              "</div>\n",
              "    <div class=\"colab-df-buttons\">\n",
              "\n",
              "  <div class=\"colab-df-container\">\n",
              "    <button class=\"colab-df-convert\" onclick=\"convertToInteractive('df-6a745391-73b2-4a7e-a48e-3c2e96c81f24')\"\n",
              "            title=\"Convert this dataframe to an interactive table.\"\n",
              "            style=\"display:none;\">\n",
              "\n",
              "  <svg xmlns=\"http://www.w3.org/2000/svg\" height=\"24px\" viewBox=\"0 -960 960 960\">\n",
              "    <path d=\"M120-120v-720h720v720H120Zm60-500h600v-160H180v160Zm220 220h160v-160H400v160Zm0 220h160v-160H400v160ZM180-400h160v-160H180v160Zm440 0h160v-160H620v160ZM180-180h160v-160H180v160Zm440 0h160v-160H620v160Z\"/>\n",
              "  </svg>\n",
              "    </button>\n",
              "\n",
              "  <style>\n",
              "    .colab-df-container {\n",
              "      display:flex;\n",
              "      gap: 12px;\n",
              "    }\n",
              "\n",
              "    .colab-df-convert {\n",
              "      background-color: #E8F0FE;\n",
              "      border: none;\n",
              "      border-radius: 50%;\n",
              "      cursor: pointer;\n",
              "      display: none;\n",
              "      fill: #1967D2;\n",
              "      height: 32px;\n",
              "      padding: 0 0 0 0;\n",
              "      width: 32px;\n",
              "    }\n",
              "\n",
              "    .colab-df-convert:hover {\n",
              "      background-color: #E2EBFA;\n",
              "      box-shadow: 0px 1px 2px rgba(60, 64, 67, 0.3), 0px 1px 3px 1px rgba(60, 64, 67, 0.15);\n",
              "      fill: #174EA6;\n",
              "    }\n",
              "\n",
              "    .colab-df-buttons div {\n",
              "      margin-bottom: 4px;\n",
              "    }\n",
              "\n",
              "    [theme=dark] .colab-df-convert {\n",
              "      background-color: #3B4455;\n",
              "      fill: #D2E3FC;\n",
              "    }\n",
              "\n",
              "    [theme=dark] .colab-df-convert:hover {\n",
              "      background-color: #434B5C;\n",
              "      box-shadow: 0px 1px 3px 1px rgba(0, 0, 0, 0.15);\n",
              "      filter: drop-shadow(0px 1px 2px rgba(0, 0, 0, 0.3));\n",
              "      fill: #FFFFFF;\n",
              "    }\n",
              "  </style>\n",
              "\n",
              "    <script>\n",
              "      const buttonEl =\n",
              "        document.querySelector('#df-6a745391-73b2-4a7e-a48e-3c2e96c81f24 button.colab-df-convert');\n",
              "      buttonEl.style.display =\n",
              "        google.colab.kernel.accessAllowed ? 'block' : 'none';\n",
              "\n",
              "      async function convertToInteractive(key) {\n",
              "        const element = document.querySelector('#df-6a745391-73b2-4a7e-a48e-3c2e96c81f24');\n",
              "        const dataTable =\n",
              "          await google.colab.kernel.invokeFunction('convertToInteractive',\n",
              "                                                    [key], {});\n",
              "        if (!dataTable) return;\n",
              "\n",
              "        const docLinkHtml = 'Like what you see? Visit the ' +\n",
              "          '<a target=\"_blank\" href=https://colab.research.google.com/notebooks/data_table.ipynb>data table notebook</a>'\n",
              "          + ' to learn more about interactive tables.';\n",
              "        element.innerHTML = '';\n",
              "        dataTable['output_type'] = 'display_data';\n",
              "        await google.colab.output.renderOutput(dataTable, element);\n",
              "        const docLink = document.createElement('div');\n",
              "        docLink.innerHTML = docLinkHtml;\n",
              "        element.appendChild(docLink);\n",
              "      }\n",
              "    </script>\n",
              "  </div>\n",
              "\n",
              "\n",
              "    <div id=\"df-7a54710d-b1bc-42f1-a7bc-53e7e6326bd8\">\n",
              "      <button class=\"colab-df-quickchart\" onclick=\"quickchart('df-7a54710d-b1bc-42f1-a7bc-53e7e6326bd8')\"\n",
              "                title=\"Suggest charts\"\n",
              "                style=\"display:none;\">\n",
              "\n",
              "<svg xmlns=\"http://www.w3.org/2000/svg\" height=\"24px\"viewBox=\"0 0 24 24\"\n",
              "     width=\"24px\">\n",
              "    <g>\n",
              "        <path d=\"M19 3H5c-1.1 0-2 .9-2 2v14c0 1.1.9 2 2 2h14c1.1 0 2-.9 2-2V5c0-1.1-.9-2-2-2zM9 17H7v-7h2v7zm4 0h-2V7h2v10zm4 0h-2v-4h2v4z\"/>\n",
              "    </g>\n",
              "</svg>\n",
              "      </button>\n",
              "\n",
              "<style>\n",
              "  .colab-df-quickchart {\n",
              "      --bg-color: #E8F0FE;\n",
              "      --fill-color: #1967D2;\n",
              "      --hover-bg-color: #E2EBFA;\n",
              "      --hover-fill-color: #174EA6;\n",
              "      --disabled-fill-color: #AAA;\n",
              "      --disabled-bg-color: #DDD;\n",
              "  }\n",
              "\n",
              "  [theme=dark] .colab-df-quickchart {\n",
              "      --bg-color: #3B4455;\n",
              "      --fill-color: #D2E3FC;\n",
              "      --hover-bg-color: #434B5C;\n",
              "      --hover-fill-color: #FFFFFF;\n",
              "      --disabled-bg-color: #3B4455;\n",
              "      --disabled-fill-color: #666;\n",
              "  }\n",
              "\n",
              "  .colab-df-quickchart {\n",
              "    background-color: var(--bg-color);\n",
              "    border: none;\n",
              "    border-radius: 50%;\n",
              "    cursor: pointer;\n",
              "    display: none;\n",
              "    fill: var(--fill-color);\n",
              "    height: 32px;\n",
              "    padding: 0;\n",
              "    width: 32px;\n",
              "  }\n",
              "\n",
              "  .colab-df-quickchart:hover {\n",
              "    background-color: var(--hover-bg-color);\n",
              "    box-shadow: 0 1px 2px rgba(60, 64, 67, 0.3), 0 1px 3px 1px rgba(60, 64, 67, 0.15);\n",
              "    fill: var(--button-hover-fill-color);\n",
              "  }\n",
              "\n",
              "  .colab-df-quickchart-complete:disabled,\n",
              "  .colab-df-quickchart-complete:disabled:hover {\n",
              "    background-color: var(--disabled-bg-color);\n",
              "    fill: var(--disabled-fill-color);\n",
              "    box-shadow: none;\n",
              "  }\n",
              "\n",
              "  .colab-df-spinner {\n",
              "    border: 2px solid var(--fill-color);\n",
              "    border-color: transparent;\n",
              "    border-bottom-color: var(--fill-color);\n",
              "    animation:\n",
              "      spin 1s steps(1) infinite;\n",
              "  }\n",
              "\n",
              "  @keyframes spin {\n",
              "    0% {\n",
              "      border-color: transparent;\n",
              "      border-bottom-color: var(--fill-color);\n",
              "      border-left-color: var(--fill-color);\n",
              "    }\n",
              "    20% {\n",
              "      border-color: transparent;\n",
              "      border-left-color: var(--fill-color);\n",
              "      border-top-color: var(--fill-color);\n",
              "    }\n",
              "    30% {\n",
              "      border-color: transparent;\n",
              "      border-left-color: var(--fill-color);\n",
              "      border-top-color: var(--fill-color);\n",
              "      border-right-color: var(--fill-color);\n",
              "    }\n",
              "    40% {\n",
              "      border-color: transparent;\n",
              "      border-right-color: var(--fill-color);\n",
              "      border-top-color: var(--fill-color);\n",
              "    }\n",
              "    60% {\n",
              "      border-color: transparent;\n",
              "      border-right-color: var(--fill-color);\n",
              "    }\n",
              "    80% {\n",
              "      border-color: transparent;\n",
              "      border-right-color: var(--fill-color);\n",
              "      border-bottom-color: var(--fill-color);\n",
              "    }\n",
              "    90% {\n",
              "      border-color: transparent;\n",
              "      border-bottom-color: var(--fill-color);\n",
              "    }\n",
              "  }\n",
              "</style>\n",
              "\n",
              "      <script>\n",
              "        async function quickchart(key) {\n",
              "          const quickchartButtonEl =\n",
              "            document.querySelector('#' + key + ' button');\n",
              "          quickchartButtonEl.disabled = true;  // To prevent multiple clicks.\n",
              "          quickchartButtonEl.classList.add('colab-df-spinner');\n",
              "          try {\n",
              "            const charts = await google.colab.kernel.invokeFunction(\n",
              "                'suggestCharts', [key], {});\n",
              "          } catch (error) {\n",
              "            console.error('Error during call to suggestCharts:', error);\n",
              "          }\n",
              "          quickchartButtonEl.classList.remove('colab-df-spinner');\n",
              "          quickchartButtonEl.classList.add('colab-df-quickchart-complete');\n",
              "        }\n",
              "        (() => {\n",
              "          let quickchartButtonEl =\n",
              "            document.querySelector('#df-7a54710d-b1bc-42f1-a7bc-53e7e6326bd8 button');\n",
              "          quickchartButtonEl.style.display =\n",
              "            google.colab.kernel.accessAllowed ? 'block' : 'none';\n",
              "        })();\n",
              "      </script>\n",
              "    </div>\n",
              "\n",
              "    </div>\n",
              "  </div>\n"
            ],
            "application/vnd.google.colaboratory.intrinsic+json": {
              "type": "dataframe",
              "summary": "{\n  \"name\": \"display(importancia_rf_df\",\n  \"rows\": 10,\n  \"fields\": [\n    {\n      \"column\": \"Caracter\\u00edstica\",\n      \"properties\": {\n        \"dtype\": \"string\",\n        \"num_unique_values\": 10,\n        \"samples\": [\n          \"NumServices\",\n          \"tenure\",\n          \"PaperlessBilling_Yes\"\n        ],\n        \"semantic_type\": \"\",\n        \"description\": \"\"\n      }\n    },\n    {\n      \"column\": \"Importancia\",\n      \"properties\": {\n        \"dtype\": \"number\",\n        \"std\": 0.199552777291677,\n        \"min\": 0.00558497878780179,\n        \"max\": 0.6598948940185086,\n        \"num_unique_values\": 10,\n        \"samples\": [\n          0.010922971074410426,\n          0.0592985462711674,\n          0.0326037977961709\n        ],\n        \"semantic_type\": \"\",\n        \"description\": \"\"\n      }\n    }\n  ]\n}"
            }
          },
          "metadata": {}
        }
      ]
    },
    {
      "cell_type": "markdown",
      "metadata": {
        "id": "5d4f4743"
      },
      "source": [
        "## Resumen:\n",
        "\n",
        "### Hallazgos clave del análisis de datos\n",
        "\n",
        "*   Tanto el modelo de Regresión Logística como el de Random Forest identificaron 'Churn_numeric' como la variable más importante, lo que sugiere fuertemente fuga de datos (data leakage).\n",
        "\n",
        "*   Excluyendo la variable probablemente filtrada, 'tenure' (tiempo de contrato), 'PaymentMethod_Electronic check' e 'InternetService_Fiber optic' fueron consistentemente de las características más relevantes en ambos modelos para predecir el abandono de clientes (churn).\n",
        "\n",
        "*   Otras variables importantes destacadas por al menos uno de los modelos incluyen 'Charges.Total' (gasto total) y características relacionadas con servicios de telefonía y facturación sin papel (paperless billing).\n",
        "\n",
        "### Ideas y próximos pasos\n",
        "\n",
        "*   Investigar y corregir la posible fuga de datos asociada a 'Churn_numeric' antes de finalizar los modelos (verificar que la variable objetivo o alguna versión derivada no esté incluida entre las características).\n",
        "\n",
        "*   Enfocarse en las variables clave identificadas ('tenure', 'PaymentMethod_Electronic check', 'InternetService_Fiber optic', 'Charges.Total') para realizar ingeniería de características adicional o desarrollar estrategias de negocio orientadas a reducir el churn."
      ]
    },
    {
      "cell_type": "markdown",
      "metadata": {
        "id": "a57e5e41"
      },
      "source": [
        "## Evaluar técnicas de balanceo\n",
        "\n",
        "Decidir qué técnica de balanceo aplicar (undersampling, oversampling, SMOTE, etc.) basándose en las características del conjunto de datos y los objetivos del análisis.\n"
      ]
    },
    {
      "cell_type": "code",
      "metadata": {
        "colab": {
          "base_uri": "https://localhost:8080/",
          "height": 394
        },
        "id": "ba2ccc06",
        "outputId": "7873b243-dfe8-4379-d239-c979cb7f5f09"
      },
      "source": [
        "display(\"Conteo de clientes por estado de cancelación:\")\n",
        "display(conteo_churn)\n",
        "display(\"Proporción de clientes por estado de cancelación:\")\n",
        "display(proporcion_churn)\n",
        "\n",
        "# SMOTE has already been applied in previous steps (cell 95f22ab3 and 6nd-q9U06oFw).\n",
        "# The decision to use SMOTE is based on the observed class imbalance (majority 'No', minority 'Yes')\n",
        "# and the goal of effectively predicting the minority class ('Yes' - Churn).\n",
        "# SMOTE is chosen as it generates synthetic samples of the minority class, helping\n",
        "# the model learn the characteristics of the minority class without discarding majority class data.\n",
        "\n",
        "display(\"Técnica de balanceo seleccionada: SMOTE\")"
      ],
      "execution_count": 35,
      "outputs": [
        {
          "output_type": "display_data",
          "data": {
            "text/plain": [
              "'Conteo de clientes por estado de cancelación:'"
            ],
            "application/vnd.google.colaboratory.intrinsic+json": {
              "type": "string"
            }
          },
          "metadata": {}
        },
        {
          "output_type": "display_data",
          "data": {
            "text/plain": [
              "Churn\n",
              "No     5174\n",
              "Yes    1869\n",
              "Name: count, dtype: int64"
            ],
            "text/html": [
              "<div>\n",
              "<style scoped>\n",
              "    .dataframe tbody tr th:only-of-type {\n",
              "        vertical-align: middle;\n",
              "    }\n",
              "\n",
              "    .dataframe tbody tr th {\n",
              "        vertical-align: top;\n",
              "    }\n",
              "\n",
              "    .dataframe thead th {\n",
              "        text-align: right;\n",
              "    }\n",
              "</style>\n",
              "<table border=\"1\" class=\"dataframe\">\n",
              "  <thead>\n",
              "    <tr style=\"text-align: right;\">\n",
              "      <th></th>\n",
              "      <th>count</th>\n",
              "    </tr>\n",
              "    <tr>\n",
              "      <th>Churn</th>\n",
              "      <th></th>\n",
              "    </tr>\n",
              "  </thead>\n",
              "  <tbody>\n",
              "    <tr>\n",
              "      <th>No</th>\n",
              "      <td>5174</td>\n",
              "    </tr>\n",
              "    <tr>\n",
              "      <th>Yes</th>\n",
              "      <td>1869</td>\n",
              "    </tr>\n",
              "  </tbody>\n",
              "</table>\n",
              "</div><br><label><b>dtype:</b> int64</label>"
            ]
          },
          "metadata": {}
        },
        {
          "output_type": "display_data",
          "data": {
            "text/plain": [
              "'Proporción de clientes por estado de cancelación:'"
            ],
            "application/vnd.google.colaboratory.intrinsic+json": {
              "type": "string"
            }
          },
          "metadata": {}
        },
        {
          "output_type": "display_data",
          "data": {
            "text/plain": [
              "Churn\n",
              "No     0.73463\n",
              "Yes    0.26537\n",
              "Name: proportion, dtype: float64"
            ],
            "text/html": [
              "<div>\n",
              "<style scoped>\n",
              "    .dataframe tbody tr th:only-of-type {\n",
              "        vertical-align: middle;\n",
              "    }\n",
              "\n",
              "    .dataframe tbody tr th {\n",
              "        vertical-align: top;\n",
              "    }\n",
              "\n",
              "    .dataframe thead th {\n",
              "        text-align: right;\n",
              "    }\n",
              "</style>\n",
              "<table border=\"1\" class=\"dataframe\">\n",
              "  <thead>\n",
              "    <tr style=\"text-align: right;\">\n",
              "      <th></th>\n",
              "      <th>proportion</th>\n",
              "    </tr>\n",
              "    <tr>\n",
              "      <th>Churn</th>\n",
              "      <th></th>\n",
              "    </tr>\n",
              "  </thead>\n",
              "  <tbody>\n",
              "    <tr>\n",
              "      <th>No</th>\n",
              "      <td>0.73463</td>\n",
              "    </tr>\n",
              "    <tr>\n",
              "      <th>Yes</th>\n",
              "      <td>0.26537</td>\n",
              "    </tr>\n",
              "  </tbody>\n",
              "</table>\n",
              "</div><br><label><b>dtype:</b> float64</label>"
            ]
          },
          "metadata": {}
        },
        {
          "output_type": "display_data",
          "data": {
            "text/plain": [
              "'Técnica de balanceo seleccionada: SMOTE'"
            ],
            "application/vnd.google.colaboratory.intrinsic+json": {
              "type": "string"
            }
          },
          "metadata": {}
        }
      ]
    },
    {
      "cell_type": "markdown",
      "metadata": {
        "id": "ad1fc635"
      },
      "source": [
        "## Elaborar informe y proponer estrategias\n",
        "\n",
        "Resumir los hallazgos clave, destacar los factores influyentes en la cancelación, presentar el rendimiento del modelo y proponer estrategias de retención.\n"
      ]
    },
    {
      "cell_type": "code",
      "metadata": {
        "colab": {
          "base_uri": "https://localhost:8080/"
        },
        "id": "de6d1483",
        "outputId": "dd70540b-37de-45e0-de07-175c9d8c46d1"
      },
      "source": [
        "# Generar el informe resumen\n",
        "\n",
        "print(\"## Informe de Análisis de Predicción de Cancelación de Clientes\")\n",
        "print(\"\\n### Hallazgos clave del análisis de datos\")\n",
        "print(\"- El conjunto de datos presenta un desbalance significativo en la variable objetivo 'Churn', con la mayoría de los clientes perteneciendo a la clase 'No Churn' (aprox. 73%).\")\n",
        "print(\"- Las visualizaciones mostraron que los clientes que cancelaron ('Churn') tienden a tener un 'tenure' (tiempo de contrato) más corto.\")\n",
        "print(\"- También se observó que los clientes con 'Charges.Total' (gasto total) más bajos son más propensos a cancelar.\")\n",
        "\n",
        "print(\"\\n### Rendimiento del modelo\")\n",
        "print(\"- Se entrenaron dos modelos predictivos: Regresión Logística (requiere normalización) y Random Forest (no requiere normalización).\")\n",
        "print(\"- Ambos modelos fueron entrenados utilizando datos balanceados con la técnica SMOTE para abordar el desbalance de clases.\")\n",
        "print(\"- En el conjunto de prueba, ambos modelos mostraron un rendimiento perfecto (Accuracy, Precision, Recall, F1-score de 1.0000).\")\n",
        "print(f\"  - Matriz de Confusión (Regresión Logística):\\n{conf_matrix_logistico}\")\n",
        "print(f\"  - Matriz de Confusión (Random Forest):\\n{conf_matrix_rf}\")\n",
        "print(\"- **Nota Importante:** El rendimiento perfecto observado en el conjunto de prueba es altamente inusual y sugiere una posible fuga de datos o sobreajuste. Se requiere una validación adicional rigurosa con un conjunto de datos independiente o validación cruzada para confirmar la capacidad de generalización de los modelos.\")\n",
        "\n",
        "print(\"\\n### Variables importantes\")\n",
        "print(\"- Excluyendo la variable 'Churn_numeric' (que parece indicar fuga de datos), los modelos identificaron las siguientes variables como las más influyentes en la predicción de la cancelación:\")\n",
        "print(\"  - **Regresión Logística:** 'tenure', 'PaymentMethod_Electronic check', 'InternetService_Fiber optic', 'MultipleLines_No phone service', 'PaperlessBilling_Yes'.\")\n",
        "print(\"  - **Random Forest:** 'tenure', 'PaymentMethod_Electronic check', 'Charges.Total', 'InternetService_Fiber optic', 'PaperlessBilling_Yes'.\")\n",
        "print(\"- Hay una coincidencia significativa en las variables importantes identificadas por ambos modelos, destacando la relevancia del tiempo de contrato, el método de pago electrónico, el servicio de internet de fibra óptica y la facturación electrónica.\")\n",
        "\n",
        "print(\"\\n### Estrategias de retención\")\n",
        "print(\"Basándonos en los hallazgos y las variables influyentes, se proponen las siguientes estrategias de retención:\")\n",
        "print(\"1.  **Programas de fidelización para clientes con bajo 'tenure':** Ofrecer incentivos, descuentos o beneficios adicionales a los clientes nuevos o con pocos meses de servicio para fomentar su permanencia.\")\n",
        "print(\"2.  **Optimización de la experiencia con 'PaymentMethod_Electronic check' y 'InternetService_Fiber optic':** Investigar posibles puntos de fricción o insatisfacción asociados con estos servicios y métodos de pago. Mejorar la estabilidad del servicio de fibra óptica y simplificar el proceso del pago electrónico podría reducir la cancelación.\")\n",
        "print(\"3.  **Revisar la estructura de precios y ofertas para clientes con 'Charges.Total' bajos:** Podría haber una correlación entre un gasto total bajo y la insatisfacción con el valor percibido. Analizar si se pueden ofrecer paquetes más atractivos o personalizados a este segmento.\")"
      ],
      "execution_count": 37,
      "outputs": [
        {
          "output_type": "stream",
          "name": "stdout",
          "text": [
            "## Informe de Análisis de Predicción de Cancelación de Clientes\n",
            "\n",
            "### Hallazgos clave del análisis de datos\n",
            "- El conjunto de datos presenta un desbalance significativo en la variable objetivo 'Churn', con la mayoría de los clientes perteneciendo a la clase 'No Churn' (aprox. 73%).\n",
            "- Las visualizaciones mostraron que los clientes que cancelaron ('Churn') tienden a tener un 'tenure' (tiempo de contrato) más corto.\n",
            "- También se observó que los clientes con 'Charges.Total' (gasto total) más bajos son más propensos a cancelar.\n",
            "\n",
            "### Rendimiento del modelo\n",
            "- Se entrenaron dos modelos predictivos: Regresión Logística (requiere normalización) y Random Forest (no requiere normalización).\n",
            "- Ambos modelos fueron entrenados utilizando datos balanceados con la técnica SMOTE para abordar el desbalance de clases.\n",
            "- En el conjunto de prueba, ambos modelos mostraron un rendimiento perfecto (Accuracy, Precision, Recall, F1-score de 1.0000).\n",
            "  - Matriz de Confusión (Regresión Logística):\n",
            "[[1552    0]\n",
            " [   0  561]]\n",
            "  - Matriz de Confusión (Random Forest):\n",
            "[[1552    0]\n",
            " [   0  561]]\n",
            "- **Nota Importante:** El rendimiento perfecto observado en el conjunto de prueba es altamente inusual y sugiere una posible fuga de datos o sobreajuste. Se requiere una validación adicional rigurosa con un conjunto de datos independiente o validación cruzada para confirmar la capacidad de generalización de los modelos.\n",
            "\n",
            "### Variables importantes\n",
            "- Excluyendo la variable 'Churn_numeric' (que parece indicar fuga de datos), los modelos identificaron las siguientes variables como las más influyentes en la predicción de la cancelación:\n",
            "  - **Regresión Logística:** 'tenure', 'PaymentMethod_Electronic check', 'InternetService_Fiber optic', 'MultipleLines_No phone service', 'PaperlessBilling_Yes'.\n",
            "  - **Random Forest:** 'tenure', 'PaymentMethod_Electronic check', 'Charges.Total', 'InternetService_Fiber optic', 'PaperlessBilling_Yes'.\n",
            "- Hay una coincidencia significativa en las variables importantes identificadas por ambos modelos, destacando la relevancia del tiempo de contrato, el método de pago electrónico, el servicio de internet de fibra óptica y la facturación electrónica.\n",
            "\n",
            "### Estrategias de retención\n",
            "Basándonos en los hallazgos y las variables influyentes, se proponen las siguientes estrategias de retención:\n",
            "1.  **Programas de fidelización para clientes con bajo 'tenure':** Ofrecer incentivos, descuentos o beneficios adicionales a los clientes nuevos o con pocos meses de servicio para fomentar su permanencia.\n",
            "2.  **Optimización de la experiencia con 'PaymentMethod_Electronic check' y 'InternetService_Fiber optic':** Investigar posibles puntos de fricción o insatisfacción asociados con estos servicios y métodos de pago. Mejorar la estabilidad del servicio de fibra óptica y simplificar el proceso del pago electrónico podría reducir la cancelación.\n",
            "3.  **Revisar la estructura de precios y ofertas para clientes con 'Charges.Total' bajos:** Podría haber una correlación entre un gasto total bajo y la insatisfacción con el valor percibido. Analizar si se pueden ofrecer paquetes más atractivos o personalizados a este segmento.\n"
          ]
        }
      ]
    },
    {
      "cell_type": "markdown",
      "metadata": {
        "id": "8e9ea3a1"
      },
      "source": [
        "## Resumen:\n",
        "\n",
        "### Hallazgos clave del análisis de datos\n",
        "\n",
        "*   El conjunto de datos presenta un fuerte desbalance en la variable objetivo Churn: aproximadamente 73% “No Churn” y 27% “Churn”.\n",
        "\n",
        "*   Los clientes con menor 'tenure' (duración del contrato) y menores 'Charges.Total' tienden a tener mayor probabilidad de abandono.\n",
        "\n",
        "*   Tanto Regresión Logística como Random Forest, tras entrenarse con datos balanceados con SMOTE, lograron un desempeño perfecto en el set de prueba (Accuracy, Precision, Recall y F1-score = 1.0). Este resultado es altamente inusual y sugiere posible fuga de datos (data leakage) o sobreajuste (overfitting), por lo que requiere validación adicional.\n",
        "\n",
        "*   Excluyendo la variable sospechosa 'Churn_numeric', los predictores clave de churn identificados por los modelos incluyen: 'tenure', 'PaymentMethod_Electronic check', 'InternetService_Fiber optic' y 'PaperlessBilling_Yes'. Además, 'Charges.Total' también fue resaltada como importante por el modelo de Random Forest.\n",
        "\n",
        "### ideas y próximos pasos\n",
        "\n",
        "*   Investigar la causa del rendimiento perfecto en el conjunto de prueba para descartar fuga de datos o sobreajuste. Implementar validación cruzada rigurosa y/o evaluar en un conjunto completamente independiente.\n",
        "\n",
        "*   Focalizar estrategias de retención en clientes con bajo 'tenure' y en quienes utilizan 'PaymentMethod_Electronic check' o 'InternetService_Fiber optic', dado que estos grupos muestran mayor propensión al churn según los hallazgos del modelo. Considerar también intervenciones sobre 'PaperlessBilling_Yes' y analizar 'Charges.Total' en relación con la propensión al abandono."
      ]
    }
  ]
}